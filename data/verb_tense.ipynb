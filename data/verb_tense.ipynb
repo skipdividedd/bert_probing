{
 "cells": [
  {
   "cell_type": "code",
   "execution_count": 39,
   "id": "71ad8d13",
   "metadata": {},
   "outputs": [],
   "source": [
    "from random import shuffle\n",
    "from tqdm import tqdm\n",
    "import re\n",
    "import os\n",
    "import sys\n",
    "sys.path.append('../rusenteval')"
   ]
  },
  {
   "cell_type": "code",
   "execution_count": 40,
   "id": "1c96cfb1",
   "metadata": {},
   "outputs": [
    {
     "name": "stderr",
     "output_type": "stream",
     "text": [
      "2023-11-19 15:38:14 INFO: Checking for updates to resources.json in case models have been updated.  Note: this behavior can be turned off with download_method=None or download_method=DownloadMethod.REUSE_RESOURCES\n"
     ]
    },
    {
     "data": {
      "application/vnd.jupyter.widget-view+json": {
       "model_id": "ec1e1691124047afb6078558f52ac475",
       "version_major": 2,
       "version_minor": 0
      },
      "text/plain": [
       "Downloading https://raw.githubusercontent.com/stanfordnlp/stanza-resources/main/resources_1.6.0.json:   0%|   …"
      ]
     },
     "metadata": {},
     "output_type": "display_data"
    },
    {
     "name": "stderr",
     "output_type": "stream",
     "text": [
      "2023-11-19 15:38:15 INFO: Loading these models for language: ru (Russian):\n",
      "================================\n",
      "| Processor | Package          |\n",
      "--------------------------------\n",
      "| tokenize  | syntagrus        |\n",
      "| pos       | syntagrus_charlm |\n",
      "================================\n",
      "\n",
      "2023-11-19 15:38:15 INFO: Using device: cpu\n",
      "2023-11-19 15:38:15 INFO: Loading: tokenize\n",
      "2023-11-19 15:38:15 INFO: Loading: pos\n",
      "2023-11-19 15:38:15 INFO: Done loading processors!\n"
     ]
    }
   ],
   "source": [
    "import stanza\n",
    "ppln = stanza.Pipeline('ru', processors='tokenize,pos')"
   ]
  },
  {
   "cell_type": "code",
   "execution_count": 41,
   "id": "1c49b7e0",
   "metadata": {},
   "outputs": [
    {
     "data": {
      "text/plain": [
       "'VERB'"
      ]
     },
     "execution_count": 41,
     "metadata": {},
     "output_type": "execute_result"
    }
   ],
   "source": [
    "txt = 'Будет Прочитал'\n",
    "doc = ppln(txt)\n",
    "doc.sentences[0].words[1].upos"
   ]
  },
  {
   "cell_type": "code",
   "execution_count": 42,
   "id": "e1819d3f",
   "metadata": {},
   "outputs": [
    {
     "data": {
      "text/plain": [
       "{'Aspect': 'Perf',\n",
       " 'Gender': 'Masc',\n",
       " 'Mood': 'Ind',\n",
       " 'Number': 'Sing',\n",
       " 'Tense': 'Past',\n",
       " 'VerbForm': 'Fin',\n",
       " 'Voice': 'Act'}"
      ]
     },
     "execution_count": 42,
     "metadata": {},
     "output_type": "execute_result"
    }
   ],
   "source": [
    "feats = doc.sentences[0].words[1].feats.split('|')\n",
    "data_dict = {item.split('=')[0]: item.split('=')[1] for item in feats}\n",
    "data_dict"
   ]
  },
  {
   "cell_type": "code",
   "execution_count": 47,
   "id": "bc162cf2",
   "metadata": {},
   "outputs": [],
   "source": [
    "tenses = []\n",
    "def check_sents(text):\n",
    "    text = re.sub(r'[^\\w\\s]','',text)[:-1]\n",
    "    labels = []\n",
    "    doc = ppln(text)\n",
    "    for i in range(len(doc.sentences[0].words)):\n",
    "        if doc.sentences[0].words[i].upos == 'VERB':\n",
    "            try:\n",
    "                feats = doc.sentences[0].words[i].feats.split('|')\n",
    "                data_dict = {item.split('=')[0]: item.split('=')[1] for item in feats}\n",
    "                if len(data_dict) > 2:\n",
    "                    if data_dict['VerbForm'] == 'Fin':\n",
    "                        try:\n",
    "                            labels.append(data_dict['Tense'])\n",
    "                            tenses.append(data_dict['Tense'])\n",
    "                        except KeyError:\n",
    "                            labels.append('None')\n",
    "                    else:\n",
    "                        labels.append('None')   \n",
    "                else:\n",
    "                    labels.append('None') \n",
    "            except AttributeError:\n",
    "                labels.append('None') \n",
    "        else:\n",
    "            labels.append('None')\n",
    "    return text, labels  "
   ]
  },
  {
   "cell_type": "code",
   "execution_count": 48,
   "id": "74ca8ba9",
   "metadata": {},
   "outputs": [],
   "source": [
    "with open('../rusenteval/predicate_tense.txt') as f:\n",
    "    sents = [line.strip('\\n').split('\\t') for line in f]\n",
    "shuffle(sents)\n",
    "sents = [d[2] for d in sents if 4 < len(d[2].split()) <= 20]"
   ]
  },
  {
   "cell_type": "code",
   "execution_count": 49,
   "id": "c7e0c1e3",
   "metadata": {},
   "outputs": [
    {
     "data": {
      "text/plain": [
       "'Внёс важный вклад в рекреационную географию .'"
      ]
     },
     "execution_count": 49,
     "metadata": {},
     "output_type": "execute_result"
    }
   ],
   "source": [
    "sents[3459]"
   ]
  },
  {
   "cell_type": "code",
   "execution_count": 50,
   "id": "c4a61733",
   "metadata": {},
   "outputs": [
    {
     "name": "stderr",
     "output_type": "stream",
     "text": [
      "100%|█████████████████████████████████| 114405/114405 [6:06:37<00:00,  5.20it/s]\n"
     ]
    }
   ],
   "source": [
    "new_sents = []\n",
    "for sent in tqdm(sents):\n",
    "    new_sents.append(check_sents(sent))"
   ]
  },
  {
   "cell_type": "code",
   "execution_count": 51,
   "id": "6b564678",
   "metadata": {},
   "outputs": [
    {
     "data": {
      "text/plain": [
       "{'Fut', 'Past', 'Pres'}"
      ]
     },
     "execution_count": 51,
     "metadata": {},
     "output_type": "execute_result"
    }
   ],
   "source": [
    "set(tenses)"
   ]
  },
  {
   "cell_type": "code",
   "execution_count": 52,
   "id": "8f3e9c4d",
   "metadata": {},
   "outputs": [],
   "source": [
    "new_sents = [d for d in new_sents if d is not None]\n",
    "new_sents = [d for d in new_sents if d[1].count('None') != len(d[1]) and len(d[0].split()) == len(d[1])]"
   ]
  },
  {
   "cell_type": "code",
   "execution_count": 60,
   "id": "d282e335",
   "metadata": {},
   "outputs": [],
   "source": [
    "per_token = [d for d in new_sents if d[1].count('None') <= len(d[1]) - 1 and len(d[0].split()) == len(d[1])]"
   ]
  },
  {
   "cell_type": "code",
   "execution_count": 61,
   "id": "296c3320",
   "metadata": {},
   "outputs": [],
   "source": [
    "per_sent = [d for d in new_sents if d[1].count('None') + 1 == len(d[1]) and len(d[0].split()) == len(d[1])]"
   ]
  },
  {
   "cell_type": "code",
   "execution_count": 62,
   "id": "93fade8b",
   "metadata": {},
   "outputs": [
    {
     "data": {
      "text/plain": [
       "113910"
      ]
     },
     "execution_count": 62,
     "metadata": {},
     "output_type": "execute_result"
    }
   ],
   "source": [
    "len(per_token)"
   ]
  },
  {
   "cell_type": "code",
   "execution_count": 63,
   "id": "9c20bd13",
   "metadata": {},
   "outputs": [
    {
     "data": {
      "text/plain": [
       "113834"
      ]
     },
     "execution_count": 63,
     "metadata": {},
     "output_type": "execute_result"
    }
   ],
   "source": [
    "len(per_sent)"
   ]
  },
  {
   "cell_type": "markdown",
   "id": "06723a79",
   "metadata": {},
   "source": [
    "## per_token"
   ]
  },
  {
   "cell_type": "code",
   "execution_count": 84,
   "id": "d450faeb",
   "metadata": {},
   "outputs": [],
   "source": [
    "fem = []\n",
    "masc = []\n",
    "neut = []\n",
    "for text in per_token:\n",
    "    if text[1].count('Fut') > 0:\n",
    "        continue\n",
    "    elif text[1].count('Pres') > 0:\n",
    "        fem.append(text)\n",
    "    elif text[1].count('Past') > 0:\n",
    "        masc.append(text)"
   ]
  },
  {
   "cell_type": "code",
   "execution_count": 85,
   "id": "2a2c322e",
   "metadata": {},
   "outputs": [],
   "source": [
    "shuffle(fem)\n",
    "shuffle(masc)\n",
    "fem = fem[:1500]\n",
    "masc = masc[:1500]"
   ]
  },
  {
   "cell_type": "code",
   "execution_count": 86,
   "id": "8011a35c",
   "metadata": {},
   "outputs": [
    {
     "name": "stdout",
     "output_type": "stream",
     "text": [
      "1500 1500\n"
     ]
    }
   ],
   "source": [
    "print(len(fem), len(masc))"
   ]
  },
  {
   "cell_type": "code",
   "execution_count": 87,
   "id": "f45ba750",
   "metadata": {},
   "outputs": [],
   "source": [
    "fem.extend(masc)"
   ]
  },
  {
   "cell_type": "code",
   "execution_count": 88,
   "id": "2d60e708",
   "metadata": {},
   "outputs": [
    {
     "data": {
      "text/plain": [
       "3000"
      ]
     },
     "execution_count": 88,
     "metadata": {},
     "output_type": "execute_result"
    }
   ],
   "source": [
    "len(fem)"
   ]
  },
  {
   "cell_type": "code",
   "execution_count": 89,
   "id": "11ad0064",
   "metadata": {},
   "outputs": [],
   "source": [
    "shuffle(fem)"
   ]
  },
  {
   "cell_type": "code",
   "execution_count": 90,
   "id": "0db0629f",
   "metadata": {},
   "outputs": [],
   "source": [
    "# сохраним в файл\n",
    "filename_out = '/per_token/ru_rusenteval_VERB_Tense.txt'\n",
    "with open(filename_out, 'w', encoding='UTF-8') as output:\n",
    "    for line in fem:\n",
    "        output.write(line[0])\n",
    "        output.write('\\n')\n",
    "        output.write(str(line[1])[1:-1])\n",
    "        output.write('\\n')"
   ]
  },
  {
   "cell_type": "code",
   "execution_count": 91,
   "id": "02fa1d08",
   "metadata": {},
   "outputs": [
    {
     "name": "stdout",
     "output_type": "stream",
     "text": [
      "1500 1500 0\n"
     ]
    }
   ],
   "source": [
    "fem_count = 0\n",
    "masc_count = 0\n",
    "neut_count = 0\n",
    "for text in fem:\n",
    "    fem_count += text[1].count('Pres')\n",
    "    masc_count += text[1].count('Past')\n",
    "    neut_count += text[1].count('Fut')\n",
    "print(fem_count, masc_count, neut_count)"
   ]
  },
  {
   "cell_type": "markdown",
   "id": "8320bfd1",
   "metadata": {},
   "source": [
    "## per_sent"
   ]
  },
  {
   "cell_type": "code",
   "execution_count": 101,
   "id": "4b068575",
   "metadata": {},
   "outputs": [],
   "source": [
    "fem = []\n",
    "masc = []\n",
    "neut = []\n",
    "for text in per_sent:\n",
    "    if text[1].count('Fut') > 0:\n",
    "        continue\n",
    "    elif text[1].count('Pres') > 0:\n",
    "        fem.append(text)\n",
    "    elif text[1].count('Past') > 0:\n",
    "        masc.append(text)"
   ]
  },
  {
   "cell_type": "code",
   "execution_count": 102,
   "id": "00714891",
   "metadata": {},
   "outputs": [],
   "source": [
    "shuffle(fem)\n",
    "shuffle(masc)\n",
    "fem = fem[:1500]\n",
    "masc = masc[:1500]"
   ]
  },
  {
   "cell_type": "code",
   "execution_count": 103,
   "id": "34657f2e",
   "metadata": {},
   "outputs": [
    {
     "name": "stdout",
     "output_type": "stream",
     "text": [
      "1500 1500\n"
     ]
    }
   ],
   "source": [
    "print(len(fem), len(masc))"
   ]
  },
  {
   "cell_type": "code",
   "execution_count": 104,
   "id": "a3979b52",
   "metadata": {},
   "outputs": [],
   "source": [
    "fem.extend(masc)"
   ]
  },
  {
   "cell_type": "code",
   "execution_count": 105,
   "id": "a5cf5ba9",
   "metadata": {},
   "outputs": [
    {
     "data": {
      "text/plain": [
       "3000"
      ]
     },
     "execution_count": 105,
     "metadata": {},
     "output_type": "execute_result"
    }
   ],
   "source": [
    "len(fem)"
   ]
  },
  {
   "cell_type": "code",
   "execution_count": 106,
   "id": "d5ecd07d",
   "metadata": {},
   "outputs": [],
   "source": [
    "shuffle(fem)"
   ]
  },
  {
   "cell_type": "code",
   "execution_count": 109,
   "id": "65c835f3",
   "metadata": {},
   "outputs": [],
   "source": [
    "# сохраним в файл\n",
    "filename_out = '/per_sent/ru_rusenteval_VERB_Tense.txt'\n",
    "with open(filename_out, 'w', encoding='UTF-8') as output:\n",
    "    for line in fem:\n",
    "        output.write(line[0])\n",
    "        output.write('\\n')\n",
    "        label = [label for label in line[1] if label != 'None']\n",
    "        assert len(label) == 1\n",
    "        output.write(label[0])\n",
    "        output.write('\\n')"
   ]
  },
  {
   "cell_type": "code",
   "execution_count": 110,
   "id": "13c3190a",
   "metadata": {},
   "outputs": [
    {
     "name": "stdout",
     "output_type": "stream",
     "text": [
      "1500 1500 0\n"
     ]
    }
   ],
   "source": [
    "fem_count = 0\n",
    "masc_count = 0\n",
    "neut_count = 0\n",
    "for text in fem:\n",
    "    fem_count += text[1].count('Pres')\n",
    "    masc_count += text[1].count('Past')\n",
    "    neut_count += text[1].count('Fut')\n",
    "print(fem_count, masc_count, neut_count)"
   ]
  },
  {
   "cell_type": "code",
   "execution_count": null,
   "id": "0c090758",
   "metadata": {},
   "outputs": [],
   "source": []
  }
 ],
 "metadata": {
  "kernelspec": {
   "display_name": "Python 3 (ipykernel)",
   "language": "python",
   "name": "python3"
  },
  "language_info": {
   "codemirror_mode": {
    "name": "ipython",
    "version": 3
   },
   "file_extension": ".py",
   "mimetype": "text/x-python",
   "name": "python",
   "nbconvert_exporter": "python",
   "pygments_lexer": "ipython3",
   "version": "3.10.13"
  }
 },
 "nbformat": 4,
 "nbformat_minor": 5
}
