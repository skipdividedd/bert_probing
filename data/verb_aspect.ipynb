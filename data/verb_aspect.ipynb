{
 "cells": [
  {
   "cell_type": "code",
   "execution_count": 1,
   "id": "71ad8d13",
   "metadata": {},
   "outputs": [],
   "source": [
    "from random import shuffle\n",
    "from tqdm import tqdm\n",
    "import re\n",
    "import os\n",
    "import sys\n",
    "sys.path.append('../rusenteval')"
   ]
  },
  {
   "cell_type": "code",
   "execution_count": 2,
   "id": "fcdfe992",
   "metadata": {},
   "outputs": [
    {
     "name": "stderr",
     "output_type": "stream",
     "text": [
      "2023-11-19 02:19:00 INFO: Checking for updates to resources.json in case models have been updated.  Note: this behavior can be turned off with download_method=None or download_method=DownloadMethod.REUSE_RESOURCES\n"
     ]
    },
    {
     "data": {
      "application/vnd.jupyter.widget-view+json": {
       "model_id": "57136da3a46945a19cd07e4029349f9d",
       "version_major": 2,
       "version_minor": 0
      },
      "text/plain": [
       "Downloading https://raw.githubusercontent.com/stanfordnlp/stanza-resources/main/resources_1.6.0.json:   0%|   …"
      ]
     },
     "metadata": {},
     "output_type": "display_data"
    },
    {
     "name": "stderr",
     "output_type": "stream",
     "text": [
      "2023-11-19 02:19:01 INFO: Loading these models for language: ru (Russian):\n",
      "================================\n",
      "| Processor | Package          |\n",
      "--------------------------------\n",
      "| tokenize  | syntagrus        |\n",
      "| pos       | syntagrus_charlm |\n",
      "================================\n",
      "\n",
      "2023-11-19 02:19:01 INFO: Using device: cpu\n",
      "2023-11-19 02:19:01 INFO: Loading: tokenize\n",
      "2023-11-19 02:19:01 INFO: Loading: pos\n",
      "2023-11-19 02:19:02 INFO: Done loading processors!\n"
     ]
    }
   ],
   "source": [
    "import stanza\n",
    "ppln = stanza.Pipeline('ru', processors='tokenize,pos')"
   ]
  },
  {
   "cell_type": "code",
   "execution_count": 3,
   "id": "6cdeb7eb",
   "metadata": {},
   "outputs": [
    {
     "data": {
      "text/plain": [
       "'VERB'"
      ]
     },
     "execution_count": 3,
     "metadata": {},
     "output_type": "execute_result"
    }
   ],
   "source": [
    "txt = 'читает Прочитал'\n",
    "doc = ppln(txt)\n",
    "doc.sentences[0].words[1].upos"
   ]
  },
  {
   "cell_type": "code",
   "execution_count": 4,
   "id": "8f9ffed9",
   "metadata": {},
   "outputs": [
    {
     "data": {
      "text/plain": [
       "{'Aspect': 'Imp',\n",
       " 'Mood': 'Ind',\n",
       " 'Number': 'Sing',\n",
       " 'Person': '3',\n",
       " 'Tense': 'Pres',\n",
       " 'VerbForm': 'Fin',\n",
       " 'Voice': 'Act'}"
      ]
     },
     "execution_count": 4,
     "metadata": {},
     "output_type": "execute_result"
    }
   ],
   "source": [
    "feats = doc.sentences[0].words[0].feats.split('|')\n",
    "data_dict = {item.split('=')[0]: item.split('=')[1] for item in feats}\n",
    "data_dict"
   ]
  },
  {
   "cell_type": "code",
   "execution_count": 5,
   "id": "bc162cf2",
   "metadata": {},
   "outputs": [],
   "source": [
    "aspects = []\n",
    "def check_sents(text):\n",
    "    text = re.sub(r'[^\\w\\s]','',text)[:-1]\n",
    "    labels = []\n",
    "    doc = ppln(text)\n",
    "    for i in range(len(doc.sentences[0].words)):\n",
    "        if doc.sentences[0].words[i].upos == 'VERB':\n",
    "            feats = doc.sentences[0].words[i].feats.split('|')\n",
    "            data_dict = {item.split('=')[0]: item.split('=')[1] for item in feats}\n",
    "            if len(data_dict) > 2:\n",
    "                if data_dict['VerbForm'] == 'Fin':\n",
    "                    try:\n",
    "                        labels.append(data_dict['Aspect'])\n",
    "                        aspects.append(data_dict['Aspect'])\n",
    "                    except KeyError:\n",
    "                        labels.append('None')\n",
    "                else:\n",
    "                    labels.append('None')   \n",
    "            else:\n",
    "                    labels.append('None') \n",
    "        else:\n",
    "            labels.append('None')\n",
    "    return text, labels  "
   ]
  },
  {
   "cell_type": "code",
   "execution_count": 6,
   "id": "74ca8ba9",
   "metadata": {},
   "outputs": [],
   "source": [
    "with open('../rusenteval/predicate_aspect.txt') as f:\n",
    "    sents = [line.strip('\\n').split('\\t') for line in f]\n",
    "shuffle(sents)\n",
    "sents = [d[2] for d in sents if 4 < len(d[2].split()) <= 20][:40000]"
   ]
  },
  {
   "cell_type": "code",
   "execution_count": 30,
   "id": "76bab6b7",
   "metadata": {},
   "outputs": [
    {
     "data": {
      "text/plain": [
       "{'Imp', 'Perf'}"
      ]
     },
     "execution_count": 30,
     "metadata": {},
     "output_type": "execute_result"
    }
   ],
   "source": [
    "set(aspects)"
   ]
  },
  {
   "cell_type": "code",
   "execution_count": 8,
   "id": "c4a61733",
   "metadata": {},
   "outputs": [
    {
     "name": "stderr",
     "output_type": "stream",
     "text": [
      "100%|███████████████████████████████████| 40000/40000 [5:25:12<00:00,  2.05it/s]\n"
     ]
    }
   ],
   "source": [
    "new_sents = []\n",
    "for sent in tqdm(sents):\n",
    "    new_sents.append(check_sents(sent))"
   ]
  },
  {
   "cell_type": "code",
   "execution_count": 9,
   "id": "8f3e9c4d",
   "metadata": {},
   "outputs": [],
   "source": [
    "new_sents = [d for d in new_sents if d is not None]\n",
    "new_sents = [d for d in new_sents if d[1].count('None') != len(d[1]) and len(d[0].split()) == len(d[1])]"
   ]
  },
  {
   "cell_type": "code",
   "execution_count": 35,
   "id": "d282e335",
   "metadata": {},
   "outputs": [],
   "source": [
    "per_token = [d for d in new_sents if d[1].count('None') < len(d[1]) - 1 and len(d[0].split()) == len(d[1])]"
   ]
  },
  {
   "cell_type": "code",
   "execution_count": 36,
   "id": "296c3320",
   "metadata": {},
   "outputs": [],
   "source": [
    "per_sent = [d for d in new_sents if d[1].count('None') + 1 == len(d[1]) and len(d[0].split()) == len(d[1])]"
   ]
  },
  {
   "cell_type": "code",
   "execution_count": 37,
   "id": "93fade8b",
   "metadata": {},
   "outputs": [
    {
     "data": {
      "text/plain": [
       "30"
      ]
     },
     "execution_count": 37,
     "metadata": {},
     "output_type": "execute_result"
    }
   ],
   "source": [
    "len(per_token)"
   ]
  },
  {
   "cell_type": "code",
   "execution_count": 34,
   "id": "6f58fe97",
   "metadata": {},
   "outputs": [
    {
     "data": {
      "text/plain": [
       "39824"
      ]
     },
     "execution_count": 34,
     "metadata": {},
     "output_type": "execute_result"
    }
   ],
   "source": [
    "len(per_sent)"
   ]
  },
  {
   "cell_type": "markdown",
   "id": "7e88039d",
   "metadata": {},
   "source": [
    "## per_token"
   ]
  },
  {
   "cell_type": "code",
   "execution_count": 46,
   "id": "2a2c322e",
   "metadata": {},
   "outputs": [],
   "source": [
    "sg = []\n",
    "pl = []\n",
    "for text in per_sent:\n",
    "    if text[1].count('Imp') > 0:\n",
    "        sg.append(text)\n",
    "        continue\n",
    "    elif text[1].count('Perf') > 0:\n",
    "        pl.append(text)"
   ]
  },
  {
   "cell_type": "code",
   "execution_count": 47,
   "id": "8011a35c",
   "metadata": {},
   "outputs": [],
   "source": [
    "shuffle(sg)\n",
    "shuffle(pl)\n",
    "sg = sg[:1500]\n",
    "pl = pl[:1500]"
   ]
  },
  {
   "cell_type": "code",
   "execution_count": 48,
   "id": "f45ba750",
   "metadata": {},
   "outputs": [
    {
     "data": {
      "text/plain": [
       "1500"
      ]
     },
     "execution_count": 48,
     "metadata": {},
     "output_type": "execute_result"
    }
   ],
   "source": [
    "len(sg)"
   ]
  },
  {
   "cell_type": "code",
   "execution_count": 49,
   "id": "2b20464d",
   "metadata": {},
   "outputs": [],
   "source": [
    "sg.extend(pl)"
   ]
  },
  {
   "cell_type": "code",
   "execution_count": 50,
   "id": "2d60e708",
   "metadata": {},
   "outputs": [
    {
     "data": {
      "text/plain": [
       "3000"
      ]
     },
     "execution_count": 50,
     "metadata": {},
     "output_type": "execute_result"
    }
   ],
   "source": [
    "len(sg)"
   ]
  },
  {
   "cell_type": "code",
   "execution_count": 51,
   "id": "db843c10",
   "metadata": {},
   "outputs": [],
   "source": [
    "shuffle(sg)"
   ]
  },
  {
   "cell_type": "code",
   "execution_count": 52,
   "id": "0db0629f",
   "metadata": {},
   "outputs": [],
   "source": [
    "# сохраним в файл\n",
    "filename_out = '/per_token/ru_rusenteval_VERB_Aspect.txt'\n",
    "with open(filename_out, 'w', encoding='UTF-8') as output:\n",
    "    for line in sg:\n",
    "        output.write(line[0])\n",
    "        output.write('\\n')\n",
    "        output.write(str(line[1])[1:-1])\n",
    "        output.write('\\n')"
   ]
  },
  {
   "cell_type": "code",
   "execution_count": 53,
   "id": "02fa1d08",
   "metadata": {},
   "outputs": [
    {
     "name": "stdout",
     "output_type": "stream",
     "text": [
      "1500 1500\n"
     ]
    }
   ],
   "source": [
    "sg_count = 0\n",
    "pl_count = 0\n",
    "for text in sg:\n",
    "    sg_count += text[1].count('Imp')\n",
    "    pl_count += text[1].count('Perf')\n",
    "print(sg_count, pl_count)"
   ]
  },
  {
   "cell_type": "markdown",
   "id": "fadd5215",
   "metadata": {},
   "source": [
    "## per_sent"
   ]
  },
  {
   "cell_type": "code",
   "execution_count": 38,
   "id": "f99809c5",
   "metadata": {},
   "outputs": [],
   "source": [
    "sg = []\n",
    "pl = []\n",
    "for text in per_sent:\n",
    "    if text[1].count('Imp') > 0:\n",
    "        sg.append(text)\n",
    "        continue\n",
    "    elif text[1].count('Perf') > 0:\n",
    "        pl.append(text)"
   ]
  },
  {
   "cell_type": "code",
   "execution_count": 39,
   "id": "62819ab7",
   "metadata": {},
   "outputs": [],
   "source": [
    "shuffle(sg)\n",
    "shuffle(pl)\n",
    "sg = sg[:1500]\n",
    "pl = pl[:1500]"
   ]
  },
  {
   "cell_type": "code",
   "execution_count": 40,
   "id": "0eb642cc",
   "metadata": {},
   "outputs": [
    {
     "data": {
      "text/plain": [
       "1500"
      ]
     },
     "execution_count": 40,
     "metadata": {},
     "output_type": "execute_result"
    }
   ],
   "source": [
    "len(sg)"
   ]
  },
  {
   "cell_type": "code",
   "execution_count": 41,
   "id": "5ece243c",
   "metadata": {},
   "outputs": [],
   "source": [
    "sg.extend(pl)"
   ]
  },
  {
   "cell_type": "code",
   "execution_count": 42,
   "id": "5aff8862",
   "metadata": {},
   "outputs": [
    {
     "data": {
      "text/plain": [
       "3000"
      ]
     },
     "execution_count": 42,
     "metadata": {},
     "output_type": "execute_result"
    }
   ],
   "source": [
    "len(sg)"
   ]
  },
  {
   "cell_type": "code",
   "execution_count": 43,
   "id": "420dfdc7",
   "metadata": {},
   "outputs": [],
   "source": [
    "shuffle(sg)"
   ]
  },
  {
   "cell_type": "code",
   "execution_count": 44,
   "id": "dc4045ce",
   "metadata": {},
   "outputs": [],
   "source": [
    "# сохраним в файл\n",
    "filename_out = '/per_sent/ru_rusenteval_VERB_Aspect.txt'\n",
    "with open(filename_out, 'w', encoding='UTF-8') as output:\n",
    "    for line in sg:\n",
    "        output.write(line[0])\n",
    "        output.write('\\n')\n",
    "        label = [label for label in line[1] if label != 'None']\n",
    "        assert len(label) == 1\n",
    "        output.write(label[0])\n",
    "        output.write('\\n')"
   ]
  },
  {
   "cell_type": "code",
   "execution_count": 45,
   "id": "5e2a7e99",
   "metadata": {},
   "outputs": [
    {
     "name": "stdout",
     "output_type": "stream",
     "text": [
      "1500 1500\n"
     ]
    }
   ],
   "source": [
    "sg_count = 0\n",
    "pl_count = 0\n",
    "for text in sg:\n",
    "    sg_count += text[1].count('Imp')\n",
    "    pl_count += text[1].count('Perf')\n",
    "print(sg_count, pl_count)"
   ]
  },
  {
   "cell_type": "code",
   "execution_count": null,
   "id": "d0faa8fa",
   "metadata": {},
   "outputs": [],
   "source": []
  }
 ],
 "metadata": {
  "kernelspec": {
   "display_name": "Python 3 (ipykernel)",
   "language": "python",
   "name": "python3"
  },
  "language_info": {
   "codemirror_mode": {
    "name": "ipython",
    "version": 3
   },
   "file_extension": ".py",
   "mimetype": "text/x-python",
   "name": "python",
   "nbconvert_exporter": "python",
   "pygments_lexer": "ipython3",
   "version": "3.10.13"
  }
 },
 "nbformat": 4,
 "nbformat_minor": 5
}
