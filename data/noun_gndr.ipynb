{
 "cells": [
  {
   "cell_type": "code",
   "execution_count": 1,
   "id": "cf4c9d6c",
   "metadata": {},
   "outputs": [],
   "source": [
    "from random import shuffle\n",
    "from tqdm import tqdm\n",
    "import re\n",
    "import os\n",
    "import sys\n",
    "sys.path.append('../rusenteval')"
   ]
  },
  {
   "cell_type": "code",
   "execution_count": 2,
   "id": "5dea5670",
   "metadata": {},
   "outputs": [
    {
     "name": "stderr",
     "output_type": "stream",
     "text": [
      "2023-11-19 01:50:27 INFO: Checking for updates to resources.json in case models have been updated.  Note: this behavior can be turned off with download_method=None or download_method=DownloadMethod.REUSE_RESOURCES\n"
     ]
    },
    {
     "data": {
      "application/vnd.jupyter.widget-view+json": {
       "model_id": "55126036d4cd49bab99ee0085ea8b090",
       "version_major": 2,
       "version_minor": 0
      },
      "text/plain": [
       "Downloading https://raw.githubusercontent.com/stanfordnlp/stanza-resources/main/resources_1.6.0.json:   0%|   …"
      ]
     },
     "metadata": {},
     "output_type": "display_data"
    },
    {
     "name": "stderr",
     "output_type": "stream",
     "text": [
      "2023-11-19 01:50:28 INFO: Loading these models for language: ru (Russian):\n",
      "================================\n",
      "| Processor | Package          |\n",
      "--------------------------------\n",
      "| tokenize  | syntagrus        |\n",
      "| pos       | syntagrus_charlm |\n",
      "================================\n",
      "\n",
      "2023-11-19 01:50:28 INFO: Using device: cpu\n",
      "2023-11-19 01:50:28 INFO: Loading: tokenize\n",
      "2023-11-19 01:50:28 INFO: Loading: pos\n",
      "2023-11-19 01:50:28 INFO: Done loading processors!\n"
     ]
    }
   ],
   "source": [
    "import stanza\n",
    "ppln = stanza.Pipeline('ru', processors='tokenize,pos')"
   ]
  },
  {
   "cell_type": "code",
   "execution_count": 61,
   "id": "fdbc2e18",
   "metadata": {},
   "outputs": [],
   "source": [
    "txt = 'Героем орясину готовящая ослы мощное топорище точит.'\n",
    "doc = ppln(txt)"
   ]
  },
  {
   "cell_type": "code",
   "execution_count": 62,
   "id": "f36a64ee",
   "metadata": {},
   "outputs": [
    {
     "data": {
      "text/plain": [
       "'NOUN'"
      ]
     },
     "execution_count": 62,
     "metadata": {},
     "output_type": "execute_result"
    }
   ],
   "source": [
    "doc.sentences[0].words[1].upos"
   ]
  },
  {
   "cell_type": "code",
   "execution_count": 63,
   "id": "955d3605",
   "metadata": {},
   "outputs": [
    {
     "data": {
      "text/plain": [
       "{'Animacy': 'Anim', 'Case': 'Ins', 'Gender': 'Masc', 'Number': 'Sing'}"
      ]
     },
     "execution_count": 63,
     "metadata": {},
     "output_type": "execute_result"
    }
   ],
   "source": [
    "feats = doc.sentences[0].words[0].feats.split('|')\n",
    "data_dict = {item.split('=')[0]: item.split('=')[1] for item in feats}\n",
    "data_dict"
   ]
  },
  {
   "cell_type": "code",
   "execution_count": 6,
   "id": "7c07aa28",
   "metadata": {},
   "outputs": [],
   "source": [
    "genders = []\n",
    "def check_sents(text):\n",
    "    text = re.sub(r'[^\\w\\s]','',text)[:-1]\n",
    "    labels = []\n",
    "    doc = ppln(text)\n",
    "    for i in range(len(doc.sentences[0].words)):\n",
    "        if doc.sentences[0].words[i].upos == 'NOUN':\n",
    "            feats = doc.sentences[0].words[i].feats.split('|')\n",
    "            data_dict = {item.split('=')[0]: item.split('=')[1] for item in feats}\n",
    "            if len(data_dict) > 2:\n",
    "                try:\n",
    "                    labels.append(data_dict['Gender'])\n",
    "                    genders.append(data_dict['Gender'])\n",
    "                except KeyError:\n",
    "                    labels.append('None') \n",
    "            else:\n",
    "                labels.append('None') \n",
    "        else:\n",
    "            labels.append('None')\n",
    "    return text, labels         "
   ]
  },
  {
   "cell_type": "code",
   "execution_count": 7,
   "id": "cd17879c",
   "metadata": {},
   "outputs": [],
   "source": [
    "with open('../rusenteval/subj_gender.txt') as f:\n",
    "    sents = [line.strip('\\n').split('\\t') for line in f]\n",
    "shuffle(sents)\n",
    "sents = [d[2] for d in sents if 4 < len(d[2].split()) <= 20][:40000]"
   ]
  },
  {
   "cell_type": "code",
   "execution_count": 8,
   "id": "aaed285a",
   "metadata": {},
   "outputs": [
    {
     "name": "stderr",
     "output_type": "stream",
     "text": [
      "100%|███████████████████████████████████| 40000/40000 [5:44:24<00:00,  1.94it/s]\n"
     ]
    }
   ],
   "source": [
    "new_sents = []\n",
    "for sent in tqdm(sents):\n",
    "    new_sents.append(check_sents(sent))"
   ]
  },
  {
   "cell_type": "code",
   "execution_count": 9,
   "id": "d96513a5",
   "metadata": {},
   "outputs": [
    {
     "data": {
      "text/plain": [
       "{'Fem', 'Masc', 'Neut'}"
      ]
     },
     "execution_count": 9,
     "metadata": {},
     "output_type": "execute_result"
    }
   ],
   "source": [
    "set(genders)"
   ]
  },
  {
   "cell_type": "code",
   "execution_count": 10,
   "id": "35ae7cef",
   "metadata": {},
   "outputs": [],
   "source": [
    "new_sents = [d for d in new_sents if d is not None]\n",
    "new_sents = [d for d in new_sents if d[1].count('None') != len(d[1]) and len(d[0].split()) == len(d[1])]"
   ]
  },
  {
   "cell_type": "code",
   "execution_count": 11,
   "id": "33087ebf",
   "metadata": {},
   "outputs": [
    {
     "data": {
      "text/plain": [
       "('Сохранение этой и других артелей районные власти считали своей первоочередной задачей',\n",
       " ['Neut',\n",
       "  'None',\n",
       "  'None',\n",
       "  'None',\n",
       "  'Masc',\n",
       "  'None',\n",
       "  'Fem',\n",
       "  'None',\n",
       "  'None',\n",
       "  'None',\n",
       "  'Fem'])"
      ]
     },
     "execution_count": 11,
     "metadata": {},
     "output_type": "execute_result"
    }
   ],
   "source": [
    "new_sents[119]"
   ]
  },
  {
   "cell_type": "code",
   "execution_count": 12,
   "id": "56f9ba18",
   "metadata": {},
   "outputs": [
    {
     "data": {
      "text/plain": [
       "39710"
      ]
     },
     "execution_count": 12,
     "metadata": {},
     "output_type": "execute_result"
    }
   ],
   "source": [
    "len(new_sents)"
   ]
  },
  {
   "cell_type": "code",
   "execution_count": 13,
   "id": "2e517878",
   "metadata": {},
   "outputs": [],
   "source": [
    "per_token = [d for d in new_sents if d[1].count('None') <= len(d[1]) - 2 and len(d[0].split()) == len(d[1])]"
   ]
  },
  {
   "cell_type": "code",
   "execution_count": 64,
   "id": "848ec80e",
   "metadata": {},
   "outputs": [],
   "source": [
    "per_sent = [d for d in new_sents if d[1].count('None') + 1 == len(d[1]) and len(d[0].split()) == len(d[1])]"
   ]
  },
  {
   "cell_type": "code",
   "execution_count": 65,
   "id": "155d80db",
   "metadata": {},
   "outputs": [
    {
     "data": {
      "text/plain": [
       "36467"
      ]
     },
     "execution_count": 65,
     "metadata": {},
     "output_type": "execute_result"
    }
   ],
   "source": [
    "len(per_token)"
   ]
  },
  {
   "cell_type": "code",
   "execution_count": 66,
   "id": "332348b2",
   "metadata": {},
   "outputs": [
    {
     "data": {
      "text/plain": [
       "3243"
      ]
     },
     "execution_count": 66,
     "metadata": {},
     "output_type": "execute_result"
    }
   ],
   "source": [
    "len(per_sent)"
   ]
  },
  {
   "cell_type": "markdown",
   "id": "43e298df",
   "metadata": {},
   "source": [
    "## per_token"
   ]
  },
  {
   "cell_type": "code",
   "execution_count": 145,
   "id": "988a58ca",
   "metadata": {},
   "outputs": [],
   "source": [
    "shuffle(per_token)\n",
    "fem = []\n",
    "masc = []\n",
    "neut = []\n",
    "for text in per_token:\n",
    "    if text[1].count('Neut') > 0:\n",
    "        neut.append(text)\n",
    "    elif text[1].count('Fem') > 0:\n",
    "        fem.append(text)\n",
    "    elif text[1].count('Masc') > 0:\n",
    "        masc.append(text)"
   ]
  },
  {
   "cell_type": "code",
   "execution_count": 146,
   "id": "c45e2ef3",
   "metadata": {},
   "outputs": [],
   "source": [
    "shuffle(fem)\n",
    "shuffle(masc)\n",
    "fem = fem[:550]\n",
    "masc = masc[:100]\n",
    "neut = neut[:2350]"
   ]
  },
  {
   "cell_type": "code",
   "execution_count": 147,
   "id": "d97a4026",
   "metadata": {},
   "outputs": [
    {
     "name": "stdout",
     "output_type": "stream",
     "text": [
      "550 100 2350\n"
     ]
    }
   ],
   "source": [
    "print(len(fem), len(masc), len(neut))"
   ]
  },
  {
   "cell_type": "code",
   "execution_count": 148,
   "id": "1ebb58a2",
   "metadata": {},
   "outputs": [],
   "source": [
    "fem.extend(masc)"
   ]
  },
  {
   "cell_type": "code",
   "execution_count": 149,
   "id": "0c417e32",
   "metadata": {},
   "outputs": [
    {
     "data": {
      "text/plain": [
       "650"
      ]
     },
     "execution_count": 149,
     "metadata": {},
     "output_type": "execute_result"
    }
   ],
   "source": [
    "len(fem)"
   ]
  },
  {
   "cell_type": "code",
   "execution_count": 150,
   "id": "14a05da9",
   "metadata": {},
   "outputs": [],
   "source": [
    "fem.extend(neut)"
   ]
  },
  {
   "cell_type": "code",
   "execution_count": 151,
   "id": "11c3d996",
   "metadata": {},
   "outputs": [
    {
     "data": {
      "text/plain": [
       "3000"
      ]
     },
     "execution_count": 151,
     "metadata": {},
     "output_type": "execute_result"
    }
   ],
   "source": [
    "len(fem)"
   ]
  },
  {
   "cell_type": "code",
   "execution_count": 152,
   "id": "7b8147ac",
   "metadata": {},
   "outputs": [],
   "source": [
    "shuffle(fem)"
   ]
  },
  {
   "cell_type": "code",
   "execution_count": 153,
   "id": "2b1eebe7",
   "metadata": {},
   "outputs": [],
   "source": [
    "# сохраним в файл\n",
    "filename_out = '/per_token/ru_rusenteval_NOUN_Gender.txt'\n",
    "with open(filename_out, 'w', encoding='UTF-8') as output:\n",
    "    for line in fem:\n",
    "        output.write(line[0])\n",
    "        output.write('\\n')\n",
    "        output.write(str(line[1])[1:-1])\n",
    "        output.write('\\n')"
   ]
  },
  {
   "cell_type": "code",
   "execution_count": 154,
   "id": "26db10dc",
   "metadata": {},
   "outputs": [
    {
     "name": "stdout",
     "output_type": "stream",
     "text": [
      "3669 4138 3653\n"
     ]
    }
   ],
   "source": [
    "fem_count = 0\n",
    "masc_count = 0\n",
    "neut_count = 0\n",
    "for text in fem:\n",
    "    fem_count += text[1].count('Fem')\n",
    "    masc_count += text[1].count('Masc')\n",
    "    neut_count += text[1].count('Neut')\n",
    "print(fem_count, masc_count, neut_count)"
   ]
  },
  {
   "cell_type": "markdown",
   "id": "68ffa359",
   "metadata": {},
   "source": [
    "## per_sent"
   ]
  },
  {
   "cell_type": "code",
   "execution_count": 67,
   "id": "9ffcd487",
   "metadata": {},
   "outputs": [],
   "source": [
    "fem = []\n",
    "masc = []\n",
    "neut = []\n",
    "for text in per_sent:\n",
    "    if text[1].count('Fem') > 0:\n",
    "        fem.append(text)\n",
    "    elif text[1].count('Masc') > 0:\n",
    "        masc.append(text)\n",
    "    elif text[1].count('Neut') > 0:\n",
    "        neut.append(text)"
   ]
  },
  {
   "cell_type": "code",
   "execution_count": 68,
   "id": "2fd1d604",
   "metadata": {},
   "outputs": [],
   "source": [
    "shuffle(fem)\n",
    "shuffle(masc)\n",
    "fem = fem[:1000]\n",
    "masc = masc[:1000]\n",
    "neut = neut[:1000]"
   ]
  },
  {
   "cell_type": "code",
   "execution_count": 69,
   "id": "4045858b",
   "metadata": {},
   "outputs": [
    {
     "name": "stdout",
     "output_type": "stream",
     "text": [
      "1000 1000 1000\n"
     ]
    }
   ],
   "source": [
    "print(len(fem), len(masc), len(neut))"
   ]
  },
  {
   "cell_type": "code",
   "execution_count": 70,
   "id": "cdc90f19",
   "metadata": {},
   "outputs": [],
   "source": [
    "fem.extend(masc)"
   ]
  },
  {
   "cell_type": "code",
   "execution_count": 71,
   "id": "3fa8de9b",
   "metadata": {},
   "outputs": [],
   "source": [
    "fem.extend(neut)"
   ]
  },
  {
   "cell_type": "code",
   "execution_count": 72,
   "id": "ceb3e46a",
   "metadata": {},
   "outputs": [],
   "source": [
    "shuffle(fem)"
   ]
  },
  {
   "cell_type": "code",
   "execution_count": 73,
   "id": "bfd03b7e",
   "metadata": {},
   "outputs": [],
   "source": [
    "# сохраним в файл\n",
    "filename_out = '/per_sent/ru_rusenteval_NOUN_Gender.txt'\n",
    "with open(filename_out, 'w', encoding='UTF-8') as output:\n",
    "    for line in fem:\n",
    "        output.write(line[0])\n",
    "        output.write('\\n')\n",
    "        label = [label for label in line[1] if label != 'None']\n",
    "        assert len(label) == 1\n",
    "        output.write(label[0])\n",
    "        output.write('\\n')"
   ]
  },
  {
   "cell_type": "code",
   "execution_count": 74,
   "id": "2437ec5e",
   "metadata": {},
   "outputs": [
    {
     "name": "stdout",
     "output_type": "stream",
     "text": [
      "1000 1000 1000\n"
     ]
    }
   ],
   "source": [
    "fem_count = 0\n",
    "masc_count = 0\n",
    "neut_count = 0\n",
    "for text in fem:\n",
    "    fem_count += text[1].count('Fem')\n",
    "    masc_count += text[1].count('Masc')\n",
    "    neut_count += text[1].count('Neut')\n",
    "print(fem_count, masc_count, neut_count)"
   ]
  },
  {
   "cell_type": "code",
   "execution_count": null,
   "id": "f50ac73f",
   "metadata": {},
   "outputs": [],
   "source": []
  }
 ],
 "metadata": {
  "kernelspec": {
   "display_name": "Python 3 (ipykernel)",
   "language": "python",
   "name": "python3"
  },
  "language_info": {
   "codemirror_mode": {
    "name": "ipython",
    "version": 3
   },
   "file_extension": ".py",
   "mimetype": "text/x-python",
   "name": "python",
   "nbconvert_exporter": "python",
   "pygments_lexer": "ipython3",
   "version": "3.10.13"
  }
 },
 "nbformat": 4,
 "nbformat_minor": 5
}
