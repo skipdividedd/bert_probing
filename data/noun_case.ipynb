{
 "cells": [
  {
   "cell_type": "code",
   "execution_count": 1,
   "id": "cf4c9d6c",
   "metadata": {},
   "outputs": [],
   "source": [
    "from random import shuffle\n",
    "from tqdm import tqdm\n",
    "import re\n",
    "import os\n",
    "import sys\n",
    "sys.path.append('../rusenteval')"
   ]
  },
  {
   "cell_type": "code",
   "execution_count": 2,
   "id": "5dea5670",
   "metadata": {},
   "outputs": [
    {
     "name": "stderr",
     "output_type": "stream",
     "text": [
      "2023-11-19 15:51:12 INFO: Checking for updates to resources.json in case models have been updated.  Note: this behavior can be turned off with download_method=None or download_method=DownloadMethod.REUSE_RESOURCES\n"
     ]
    },
    {
     "data": {
      "application/vnd.jupyter.widget-view+json": {
       "model_id": "3a30086d48804fc0ad99fbe049dfb4e2",
       "version_major": 2,
       "version_minor": 0
      },
      "text/plain": [
       "Downloading https://raw.githubusercontent.com/stanfordnlp/stanza-resources/main/resources_1.6.0.json:   0%|   …"
      ]
     },
     "metadata": {},
     "output_type": "display_data"
    },
    {
     "name": "stderr",
     "output_type": "stream",
     "text": [
      "2023-11-19 15:51:12 INFO: Loading these models for language: ru (Russian):\n",
      "================================\n",
      "| Processor | Package          |\n",
      "--------------------------------\n",
      "| tokenize  | syntagrus        |\n",
      "| pos       | syntagrus_charlm |\n",
      "================================\n",
      "\n",
      "2023-11-19 15:51:12 INFO: Using device: cpu\n",
      "2023-11-19 15:51:12 INFO: Loading: tokenize\n",
      "2023-11-19 15:51:12 INFO: Loading: pos\n",
      "2023-11-19 15:51:13 INFO: Done loading processors!\n"
     ]
    }
   ],
   "source": [
    "import stanza\n",
    "ppln = stanza.Pipeline('ru', processors='tokenize,pos')"
   ]
  },
  {
   "cell_type": "code",
   "execution_count": 3,
   "id": "fdbc2e18",
   "metadata": {},
   "outputs": [],
   "source": [
    "txt = 'Об орясину готовящая муниципальные мощное топорище точит.'\n",
    "doc = ppln(txt)"
   ]
  },
  {
   "cell_type": "code",
   "execution_count": 4,
   "id": "f36a64ee",
   "metadata": {},
   "outputs": [
    {
     "data": {
      "text/plain": [
       "'NOUN'"
      ]
     },
     "execution_count": 4,
     "metadata": {},
     "output_type": "execute_result"
    }
   ],
   "source": [
    "doc.sentences[0].words[1].upos"
   ]
  },
  {
   "cell_type": "code",
   "execution_count": 5,
   "id": "955d3605",
   "metadata": {},
   "outputs": [
    {
     "data": {
      "text/plain": [
       "{'Animacy': 'Inan', 'Case': 'Acc', 'Degree': 'Pos', 'Number': 'Plur'}"
      ]
     },
     "execution_count": 5,
     "metadata": {},
     "output_type": "execute_result"
    }
   ],
   "source": [
    "feats = doc.sentences[0].words[3].feats.split('|')\n",
    "data_dict = {item.split('=')[0]: item.split('=')[1] for item in feats}\n",
    "data_dict"
   ]
  },
  {
   "cell_type": "code",
   "execution_count": 6,
   "id": "7c07aa28",
   "metadata": {},
   "outputs": [],
   "source": [
    "cases = []\n",
    "def check_sents(text):\n",
    "    text = re.sub(r'[^\\w\\s]','',text)[:-1]\n",
    "    labels = []\n",
    "    doc = ppln(text)\n",
    "    for i in range(len(doc.sentences[0].words)):\n",
    "        if doc.sentences[0].words[i].upos == 'NOUN':\n",
    "            feats = doc.sentences[0].words[i].feats.split('|')\n",
    "            data_dict = {item.split('=')[0]: item.split('=')[1] for item in feats}\n",
    "            if len(data_dict) > 2:\n",
    "                try:\n",
    "                    labels.append(data_dict['Case'])\n",
    "                    cases.append(data_dict['Case'])\n",
    "                except KeyError:\n",
    "                    labels.append('None') \n",
    "            else:\n",
    "                labels.append('None') \n",
    "        else:\n",
    "            labels.append('None')\n",
    "    return text, labels         "
   ]
  },
  {
   "cell_type": "code",
   "execution_count": 7,
   "id": "cd17879c",
   "metadata": {},
   "outputs": [],
   "source": [
    "with open('../rusenteval/obj_gender.txt') as f:\n",
    "    sents = [line.strip('\\n').split('\\t') for line in f]\n",
    "shuffle(sents)\n",
    "sents = [d[2] for d in sents if 4 < len(d[2].split()) <= 20]"
   ]
  },
  {
   "cell_type": "code",
   "execution_count": 8,
   "id": "aaed285a",
   "metadata": {},
   "outputs": [
    {
     "name": "stderr",
     "output_type": "stream",
     "text": [
      "100%|█████████████████████████████████| 117807/117807 [6:18:05<00:00,  5.19it/s]\n"
     ]
    }
   ],
   "source": [
    "new_sents = []\n",
    "for sent in tqdm(sents):\n",
    "    new_sents.append(check_sents(sent))"
   ]
  },
  {
   "cell_type": "code",
   "execution_count": 9,
   "id": "35ae7cef",
   "metadata": {},
   "outputs": [],
   "source": [
    "new_sents = [d for d in new_sents if d is not None]\n",
    "new_sents = [d for d in new_sents if d[1].count('None') != len(d[1]) and len(d[0].split()) == len(d[1])]"
   ]
  },
  {
   "cell_type": "code",
   "execution_count": 10,
   "id": "33087ebf",
   "metadata": {},
   "outputs": [
    {
     "data": {
      "text/plain": [
       "('Лидеры организации отвергают эти обвинения',\n",
       " ['Nom', 'Gen', 'None', 'None', 'Acc'])"
      ]
     },
     "execution_count": 10,
     "metadata": {},
     "output_type": "execute_result"
    }
   ],
   "source": [
    "new_sents[119]"
   ]
  },
  {
   "cell_type": "code",
   "execution_count": 11,
   "id": "56f9ba18",
   "metadata": {},
   "outputs": [
    {
     "data": {
      "text/plain": [
       "117498"
      ]
     },
     "execution_count": 11,
     "metadata": {},
     "output_type": "execute_result"
    }
   ],
   "source": [
    "len(new_sents)"
   ]
  },
  {
   "cell_type": "code",
   "execution_count": 12,
   "id": "2e517878",
   "metadata": {},
   "outputs": [],
   "source": [
    "per_token = [d for d in new_sents if d[1].count('None') <= len(d[1]) - 2 and len(d[0].split()) == len(d[1])]"
   ]
  },
  {
   "cell_type": "code",
   "execution_count": 13,
   "id": "848ec80e",
   "metadata": {},
   "outputs": [],
   "source": [
    "per_sent = [d for d in new_sents if d[1].count('None') + 1 == len(d[1]) and len(d[0].split()) == len(d[1])]"
   ]
  },
  {
   "cell_type": "code",
   "execution_count": 14,
   "id": "155d80db",
   "metadata": {},
   "outputs": [
    {
     "data": {
      "text/plain": [
       "100791"
      ]
     },
     "execution_count": 14,
     "metadata": {},
     "output_type": "execute_result"
    }
   ],
   "source": [
    "len(per_token)"
   ]
  },
  {
   "cell_type": "code",
   "execution_count": 15,
   "id": "332348b2",
   "metadata": {},
   "outputs": [
    {
     "data": {
      "text/plain": [
       "16707"
      ]
     },
     "execution_count": 15,
     "metadata": {},
     "output_type": "execute_result"
    }
   ],
   "source": [
    "len(per_sent)"
   ]
  },
  {
   "cell_type": "code",
   "execution_count": 16,
   "id": "43bbb0b8",
   "metadata": {},
   "outputs": [
    {
     "data": {
      "text/plain": [
       "{'Acc', 'Dat', 'Gen', 'Ins', 'Loc', 'Nom', 'Par'}"
      ]
     },
     "execution_count": 16,
     "metadata": {},
     "output_type": "execute_result"
    }
   ],
   "source": [
    "set(cases)"
   ]
  },
  {
   "cell_type": "markdown",
   "id": "43e298df",
   "metadata": {},
   "source": [
    "## per_token"
   ]
  },
  {
   "cell_type": "code",
   "execution_count": 300,
   "id": "88fd8a9b",
   "metadata": {},
   "outputs": [],
   "source": [
    "shuffle(per_token)"
   ]
  },
  {
   "cell_type": "code",
   "execution_count": 301,
   "id": "988a58ca",
   "metadata": {},
   "outputs": [],
   "source": [
    "fem = []\n",
    "masc = []\n",
    "neut = []\n",
    "Ins = []\n",
    "Loc = []\n",
    "Nom = []\n",
    "for text in per_token:\n",
    "    if text[1].count('Par') > 0:\n",
    "        continue\n",
    "    elif text[1].count('Acc') > 0:\n",
    "        fem.append(text)\n",
    "    elif text[1].count('Dat') > 0:\n",
    "        masc.append(text)\n",
    "    elif text[1].count('Loc') > 0:\n",
    "        Loc.append(text)\n",
    "    elif text[1].count('Gen') > 0:\n",
    "        neut.append(text)\n",
    "    elif text[1].count('Ins') > 0:\n",
    "        Ins.append(text)\n",
    "    elif text[1].count('Nom') > 0:\n",
    "        Nom.append(text)"
   ]
  },
  {
   "cell_type": "code",
   "execution_count": 302,
   "id": "fed5aeb9",
   "metadata": {},
   "outputs": [
    {
     "data": {
      "text/plain": [
       "82895"
      ]
     },
     "execution_count": 302,
     "metadata": {},
     "output_type": "execute_result"
    }
   ],
   "source": [
    "len(fem)"
   ]
  },
  {
   "cell_type": "code",
   "execution_count": 303,
   "id": "feeed4f7",
   "metadata": {},
   "outputs": [
    {
     "data": {
      "text/plain": [
       "1288"
      ]
     },
     "execution_count": 303,
     "metadata": {},
     "output_type": "execute_result"
    }
   ],
   "source": [
    "len(masc)"
   ]
  },
  {
   "cell_type": "code",
   "execution_count": 304,
   "id": "c45e2ef3",
   "metadata": {},
   "outputs": [],
   "source": [
    "fem = fem[:900]\n",
    "masc = masc[:900]\n",
    "Ins = Ins[:500]\n",
    "Loc = Loc[:700]"
   ]
  },
  {
   "cell_type": "code",
   "execution_count": 305,
   "id": "d97a4026",
   "metadata": {},
   "outputs": [
    {
     "name": "stdout",
     "output_type": "stream",
     "text": [
      "900 900 12699 500 700 484\n"
     ]
    }
   ],
   "source": [
    "print(len(fem), len(masc), len(neut), len(Ins), len(Loc), len(Nom))"
   ]
  },
  {
   "cell_type": "code",
   "execution_count": 306,
   "id": "1ebb58a2",
   "metadata": {},
   "outputs": [],
   "source": [
    "fem.extend(masc)"
   ]
  },
  {
   "cell_type": "code",
   "execution_count": 307,
   "id": "0c417e32",
   "metadata": {},
   "outputs": [
    {
     "data": {
      "text/plain": [
       "1800"
      ]
     },
     "execution_count": 307,
     "metadata": {},
     "output_type": "execute_result"
    }
   ],
   "source": [
    "len(fem)"
   ]
  },
  {
   "cell_type": "code",
   "execution_count": 308,
   "id": "14a05da9",
   "metadata": {},
   "outputs": [],
   "source": [
    "#fem.extend(neut)"
   ]
  },
  {
   "cell_type": "code",
   "execution_count": 309,
   "id": "11c3d996",
   "metadata": {},
   "outputs": [
    {
     "data": {
      "text/plain": [
       "1800"
      ]
     },
     "execution_count": 309,
     "metadata": {},
     "output_type": "execute_result"
    }
   ],
   "source": [
    "len(fem)"
   ]
  },
  {
   "cell_type": "code",
   "execution_count": 310,
   "id": "b9f65831",
   "metadata": {},
   "outputs": [],
   "source": [
    "fem.extend(Ins)"
   ]
  },
  {
   "cell_type": "code",
   "execution_count": 311,
   "id": "433a4159",
   "metadata": {},
   "outputs": [],
   "source": [
    "fem.extend(Loc)"
   ]
  },
  {
   "cell_type": "code",
   "execution_count": 312,
   "id": "e1ae34bd",
   "metadata": {},
   "outputs": [],
   "source": [
    "#fem.extend(Nom)"
   ]
  },
  {
   "cell_type": "code",
   "execution_count": 313,
   "id": "d582f2a2",
   "metadata": {},
   "outputs": [
    {
     "data": {
      "text/plain": [
       "3000"
      ]
     },
     "execution_count": 313,
     "metadata": {},
     "output_type": "execute_result"
    }
   ],
   "source": [
    "len(fem)"
   ]
  },
  {
   "cell_type": "code",
   "execution_count": 314,
   "id": "7b8147ac",
   "metadata": {},
   "outputs": [],
   "source": [
    "shuffle(fem)"
   ]
  },
  {
   "cell_type": "code",
   "execution_count": 315,
   "id": "2b1eebe7",
   "metadata": {},
   "outputs": [],
   "source": [
    "# сохраним в файл\n",
    "filename_out = '/per_token/ru_rusenteval_NOUN_Case.txt'\n",
    "with open(filename_out, 'w', encoding='UTF-8') as output:\n",
    "    for line in fem:\n",
    "        output.write(line[0])\n",
    "        output.write('\\n')\n",
    "        output.write(str(line[1])[1:-1])\n",
    "        output.write('\\n')"
   ]
  },
  {
   "cell_type": "code",
   "execution_count": 316,
   "id": "26db10dc",
   "metadata": {},
   "outputs": [
    {
     "name": "stdout",
     "output_type": "stream",
     "text": [
      "1069 1089 3829 1412 1004 2386\n"
     ]
    }
   ],
   "source": [
    "fem_count = 0\n",
    "masc_count = 0\n",
    "neut_count = 0\n",
    "ins = 0\n",
    "loc = 0\n",
    "nom = 0\n",
    "for text in fem:\n",
    "    fem_count += text[1].count('Acc')\n",
    "    masc_count += text[1].count('Dat')\n",
    "    neut_count += text[1].count('Gen')\n",
    "    ins += text[1].count('Ins')\n",
    "    loc += text[1].count('Loc')\n",
    "    nom += text[1].count('Nom')\n",
    "print(fem_count, masc_count, neut_count, ins, loc, nom)"
   ]
  },
  {
   "cell_type": "markdown",
   "id": "68ffa359",
   "metadata": {},
   "source": [
    "## per_sent"
   ]
  },
  {
   "cell_type": "code",
   "execution_count": 326,
   "id": "0ba30c5f",
   "metadata": {},
   "outputs": [
    {
     "data": {
      "text/plain": [
       "16707"
      ]
     },
     "execution_count": 326,
     "metadata": {},
     "output_type": "execute_result"
    }
   ],
   "source": [
    "len(per_sent)"
   ]
  },
  {
   "cell_type": "code",
   "execution_count": 327,
   "id": "54e39e54",
   "metadata": {},
   "outputs": [],
   "source": [
    "shuffle(per_sent)"
   ]
  },
  {
   "cell_type": "code",
   "execution_count": 355,
   "id": "9ffcd487",
   "metadata": {},
   "outputs": [],
   "source": [
    "fem = []\n",
    "masc = []\n",
    "neut = []\n",
    "Ins = []\n",
    "Loc = []\n",
    "Nom = []\n",
    "for text in per_sent:\n",
    "    if text[1].count('Par') > 0:\n",
    "        continue\n",
    "    elif text[1].count('Acc') > 0:\n",
    "        fem.append(text)\n",
    "    elif text[1].count('Dat') > 0:\n",
    "        masc.append(text)\n",
    "    elif text[1].count('Gen') > 0:\n",
    "        neut.append(text)\n",
    "    elif text[1].count('Ins') > 0:\n",
    "        Ins.append(text)\n",
    "    elif text[1].count('Loc') > 0:\n",
    "        Loc.append(text)\n",
    "    elif text[1].count('Nom') > 0:\n",
    "        Nom.append(text)"
   ]
  },
  {
   "cell_type": "code",
   "execution_count": 356,
   "id": "64f93bc3",
   "metadata": {},
   "outputs": [
    {
     "data": {
      "text/plain": [
       "243.0"
      ]
     },
     "execution_count": 356,
     "metadata": {},
     "output_type": "execute_result"
    }
   ],
   "source": [
    "(3000-2000-17-11)/4"
   ]
  },
  {
   "cell_type": "code",
   "execution_count": 357,
   "id": "2fd1d604",
   "metadata": {},
   "outputs": [],
   "source": [
    "fem = fem[:773]\n",
    "masc = masc[:500]\n",
    "neut = neut[:743]\n",
    "Ins = Ins[:743]\n",
    "Loc = Loc[:500]\n",
    "Nom = Nom[:743]"
   ]
  },
  {
   "cell_type": "code",
   "execution_count": 358,
   "id": "4045858b",
   "metadata": {},
   "outputs": [
    {
     "name": "stdout",
     "output_type": "stream",
     "text": [
      "773 17 743 743 11 713\n"
     ]
    }
   ],
   "source": [
    "print(len(fem), len(masc), len(neut), len(Ins), len(Loc), len(Nom))"
   ]
  },
  {
   "cell_type": "code",
   "execution_count": 359,
   "id": "cdc90f19",
   "metadata": {},
   "outputs": [],
   "source": [
    "fem.extend(masc)"
   ]
  },
  {
   "cell_type": "code",
   "execution_count": 360,
   "id": "3fa8de9b",
   "metadata": {},
   "outputs": [],
   "source": [
    "fem.extend(neut)"
   ]
  },
  {
   "cell_type": "code",
   "execution_count": 361,
   "id": "079b17d0",
   "metadata": {},
   "outputs": [],
   "source": [
    "fem.extend(Ins)"
   ]
  },
  {
   "cell_type": "code",
   "execution_count": 362,
   "id": "671d82dd",
   "metadata": {},
   "outputs": [],
   "source": [
    "fem.extend(Loc)"
   ]
  },
  {
   "cell_type": "code",
   "execution_count": 363,
   "id": "18789c14",
   "metadata": {},
   "outputs": [],
   "source": [
    "fem.extend(Nom)"
   ]
  },
  {
   "cell_type": "code",
   "execution_count": 364,
   "id": "ceb3e46a",
   "metadata": {},
   "outputs": [],
   "source": [
    "shuffle(fem)"
   ]
  },
  {
   "cell_type": "code",
   "execution_count": 365,
   "id": "565c28fe",
   "metadata": {},
   "outputs": [
    {
     "data": {
      "text/plain": [
       "3000"
      ]
     },
     "execution_count": 365,
     "metadata": {},
     "output_type": "execute_result"
    }
   ],
   "source": [
    "len(fem)"
   ]
  },
  {
   "cell_type": "code",
   "execution_count": 366,
   "id": "bfd03b7e",
   "metadata": {},
   "outputs": [],
   "source": [
    "# сохраним в файл\n",
    "filename_out = '/per_sent/ru_rusenteval_NOUN_Case.txt'\n",
    "with open(filename_out, 'w', encoding='UTF-8') as output:\n",
    "    for line in fem:\n",
    "        output.write(line[0])\n",
    "        output.write('\\n')\n",
    "        label = [label for label in line[1] if label != 'None']\n",
    "        assert len(label) == 1\n",
    "        output.write(label[0])\n",
    "        output.write('\\n')"
   ]
  },
  {
   "cell_type": "code",
   "execution_count": 367,
   "id": "2437ec5e",
   "metadata": {},
   "outputs": [
    {
     "name": "stdout",
     "output_type": "stream",
     "text": [
      "773 17 743 743 11 713\n"
     ]
    }
   ],
   "source": [
    "fem_count = 0\n",
    "masc_count = 0\n",
    "neut_count = 0\n",
    "ins = 0\n",
    "loc = 0\n",
    "nom = 0\n",
    "for text in fem:\n",
    "    fem_count += text[1].count('Acc')\n",
    "    masc_count += text[1].count('Dat')\n",
    "    neut_count += text[1].count('Gen')\n",
    "    ins += text[1].count('Ins')\n",
    "    loc += text[1].count('Loc')\n",
    "    nom += text[1].count('Nom')\n",
    "print(fem_count, masc_count, neut_count, ins, loc, nom)"
   ]
  },
  {
   "cell_type": "code",
   "execution_count": null,
   "id": "800c8fab",
   "metadata": {},
   "outputs": [],
   "source": []
  }
 ],
 "metadata": {
  "kernelspec": {
   "display_name": "Python 3 (ipykernel)",
   "language": "python",
   "name": "python3"
  },
  "language_info": {
   "codemirror_mode": {
    "name": "ipython",
    "version": 3
   },
   "file_extension": ".py",
   "mimetype": "text/x-python",
   "name": "python",
   "nbconvert_exporter": "python",
   "pygments_lexer": "ipython3",
   "version": "3.10.13"
  }
 },
 "nbformat": 4,
 "nbformat_minor": 5
}
