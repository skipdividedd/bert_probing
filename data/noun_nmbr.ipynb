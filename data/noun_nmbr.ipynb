{
 "cells": [
  {
   "cell_type": "code",
   "execution_count": 1,
   "id": "71ad8d13",
   "metadata": {},
   "outputs": [],
   "source": [
    "from random import shuffle\n",
    "from tqdm import tqdm\n",
    "import re\n",
    "import os\n",
    "import sys\n",
    "sys.path.append('../rusenteval')"
   ]
  },
  {
   "cell_type": "code",
   "execution_count": 2,
   "id": "fcdfe992",
   "metadata": {},
   "outputs": [
    {
     "name": "stderr",
     "output_type": "stream",
     "text": [
      "2023-11-19 01:48:18 INFO: Checking for updates to resources.json in case models have been updated.  Note: this behavior can be turned off with download_method=None or download_method=DownloadMethod.REUSE_RESOURCES\n"
     ]
    },
    {
     "data": {
      "application/vnd.jupyter.widget-view+json": {
       "model_id": "98f413c20fca4aeeb6ec6403ee5a2962",
       "version_major": 2,
       "version_minor": 0
      },
      "text/plain": [
       "Downloading https://raw.githubusercontent.com/stanfordnlp/stanza-resources/main/resources_1.6.0.json:   0%|   …"
      ]
     },
     "metadata": {},
     "output_type": "display_data"
    },
    {
     "name": "stderr",
     "output_type": "stream",
     "text": [
      "2023-11-19 01:48:19 INFO: Loading these models for language: ru (Russian):\n",
      "================================\n",
      "| Processor | Package          |\n",
      "--------------------------------\n",
      "| tokenize  | syntagrus        |\n",
      "| pos       | syntagrus_charlm |\n",
      "================================\n",
      "\n",
      "2023-11-19 01:48:19 INFO: Using device: cpu\n",
      "2023-11-19 01:48:19 INFO: Loading: tokenize\n",
      "2023-11-19 01:48:19 INFO: Loading: pos\n",
      "2023-11-19 01:48:20 INFO: Done loading processors!\n"
     ]
    }
   ],
   "source": [
    "import stanza\n",
    "ppln = stanza.Pipeline('ru', processors='tokenize,pos')"
   ]
  },
  {
   "cell_type": "code",
   "execution_count": 3,
   "id": "bc162cf2",
   "metadata": {},
   "outputs": [],
   "source": [
    "numbers = []\n",
    "def check_sents(text):\n",
    "        text = re.sub(r'[^\\w\\s]','',text)[:-1]\n",
    "        labels = []\n",
    "        doc = ppln(text)\n",
    "        for i in range(len(doc.sentences[0].words)):\n",
    "            if doc.sentences[0].words[i].upos == 'NOUN':\n",
    "                feats = doc.sentences[0].words[i].feats.split('|')\n",
    "                data_dict = {item.split('=')[0]: item.split('=')[1] for item in feats}\n",
    "                if len(data_dict) > 2:\n",
    "                    try:\n",
    "                        labels.append(data_dict['Number'])\n",
    "                        numbers.append(data_dict['Number'])\n",
    "                    except KeyError:\n",
    "                        labels.append('None')\n",
    "                else:\n",
    "                    labels.append('None')  \n",
    "            else:\n",
    "                labels.append('None')\n",
    "        return text, labels   "
   ]
  },
  {
   "cell_type": "code",
   "execution_count": 4,
   "id": "74ca8ba9",
   "metadata": {},
   "outputs": [],
   "source": [
    "with open('../rusenteval/subj_number.txt') as f:\n",
    "    sents = [line.strip('\\n').split('\\t') for line in f]\n",
    "shuffle(sents)\n",
    "sents = [d[2] for d in sents if 4 < len(d[2].split()) <= 20][:40000]"
   ]
  },
  {
   "cell_type": "code",
   "execution_count": 5,
   "id": "c4a61733",
   "metadata": {},
   "outputs": [
    {
     "name": "stderr",
     "output_type": "stream",
     "text": [
      "100%|███████████████████████████████████| 40000/40000 [5:42:18<00:00,  1.95it/s]\n"
     ]
    }
   ],
   "source": [
    "new_sents = []\n",
    "for sent in tqdm(sents):\n",
    "    new_sents.append(check_sents(sent))"
   ]
  },
  {
   "cell_type": "code",
   "execution_count": 6,
   "id": "8f3e9c4d",
   "metadata": {},
   "outputs": [],
   "source": [
    "new_sents = [d for d in new_sents if d is not None]\n",
    "new_sents = [d for d in new_sents if d[1].count('None') != len(d[1]) and len(d[0].split()) == len(d[1])]"
   ]
  },
  {
   "cell_type": "code",
   "execution_count": 7,
   "id": "d282e335",
   "metadata": {},
   "outputs": [],
   "source": [
    "per_token = [d for d in new_sents if d[1].count('None') <= len(d[1]) - 2 and len(d[0].split()) == len(d[1])]"
   ]
  },
  {
   "cell_type": "code",
   "execution_count": 8,
   "id": "296c3320",
   "metadata": {},
   "outputs": [],
   "source": [
    "per_sent = [d for d in new_sents if d[1].count('None') + 1 == len(d[1]) and len(d[0].split()) == len(d[1])]"
   ]
  },
  {
   "cell_type": "code",
   "execution_count": 9,
   "id": "1d7b0f48",
   "metadata": {},
   "outputs": [
    {
     "data": {
      "text/plain": [
       "34934"
      ]
     },
     "execution_count": 9,
     "metadata": {},
     "output_type": "execute_result"
    }
   ],
   "source": [
    "len(per_token)"
   ]
  },
  {
   "cell_type": "code",
   "execution_count": 10,
   "id": "e046e2df",
   "metadata": {},
   "outputs": [
    {
     "data": {
      "text/plain": [
       "4213"
      ]
     },
     "execution_count": 10,
     "metadata": {},
     "output_type": "execute_result"
    }
   ],
   "source": [
    "len(per_sent)"
   ]
  },
  {
   "cell_type": "code",
   "execution_count": 11,
   "id": "13ca8029",
   "metadata": {},
   "outputs": [
    {
     "data": {
      "text/plain": [
       "{'Plur', 'Sing'}"
      ]
     },
     "execution_count": 11,
     "metadata": {},
     "output_type": "execute_result"
    }
   ],
   "source": [
    "set(numbers)"
   ]
  },
  {
   "cell_type": "markdown",
   "id": "8676bdfd",
   "metadata": {},
   "source": [
    "## per_token"
   ]
  },
  {
   "cell_type": "code",
   "execution_count": 46,
   "id": "3bcdfe08",
   "metadata": {},
   "outputs": [],
   "source": [
    "sg = []\n",
    "pl = []\n",
    "shuffle(per_token)\n",
    "for text in per_token:\n",
    "    if text[1].count('Sing') > 0:\n",
    "        sg.append(text)\n",
    "    elif text[1].count('Plur') > 0:\n",
    "        pl.append(text)"
   ]
  },
  {
   "cell_type": "code",
   "execution_count": 47,
   "id": "52342340",
   "metadata": {},
   "outputs": [],
   "source": [
    "shuffle(sg)\n",
    "shuffle(pl)\n",
    "sg = sg[:1900]\n",
    "pl = pl[:1100]"
   ]
  },
  {
   "cell_type": "code",
   "execution_count": 48,
   "id": "2b20464d",
   "metadata": {},
   "outputs": [],
   "source": [
    "sg.extend(pl)"
   ]
  },
  {
   "cell_type": "code",
   "execution_count": 49,
   "id": "2d60e708",
   "metadata": {},
   "outputs": [
    {
     "data": {
      "text/plain": [
       "3000"
      ]
     },
     "execution_count": 49,
     "metadata": {},
     "output_type": "execute_result"
    }
   ],
   "source": [
    "len(sg)"
   ]
  },
  {
   "cell_type": "code",
   "execution_count": 50,
   "id": "db843c10",
   "metadata": {},
   "outputs": [],
   "source": [
    "shuffle(sg)"
   ]
  },
  {
   "cell_type": "code",
   "execution_count": 51,
   "id": "0db0629f",
   "metadata": {},
   "outputs": [],
   "source": [
    "# сохраним в файл\n",
    "filename_out = '/per_token/ru_rusenteval_NOUN_Number.txt'\n",
    "with open(filename_out, 'w', encoding='UTF-8') as output:\n",
    "    for line in sg:\n",
    "        output.write(line[0])\n",
    "        output.write('\\n')\n",
    "        output.write(str(line[1])[1:-1])\n",
    "        output.write('\\n')"
   ]
  },
  {
   "cell_type": "code",
   "execution_count": 52,
   "id": "02fa1d08",
   "metadata": {},
   "outputs": [
    {
     "name": "stdout",
     "output_type": "stream",
     "text": [
      "4761 4847\n"
     ]
    }
   ],
   "source": [
    "sg_count = 0\n",
    "pl_count = 0\n",
    "for text in sg:\n",
    "    sg_count += text[1].count('Sing')\n",
    "    pl_count += text[1].count('Plur')\n",
    "print(sg_count, pl_count)"
   ]
  },
  {
   "cell_type": "markdown",
   "id": "0b9cd7a5",
   "metadata": {},
   "source": [
    "## per_sent"
   ]
  },
  {
   "cell_type": "code",
   "execution_count": 32,
   "id": "e9fac9c6",
   "metadata": {},
   "outputs": [],
   "source": [
    "sg = []\n",
    "pl = []\n",
    "for text in per_sent:\n",
    "    if text[1].count('Sing') > 0:\n",
    "        sg.append(text)\n",
    "    elif text[1].count('Plur') > 0:\n",
    "        pl.append(text)"
   ]
  },
  {
   "cell_type": "code",
   "execution_count": 33,
   "id": "6694b122",
   "metadata": {},
   "outputs": [],
   "source": [
    "shuffle(sg)\n",
    "shuffle(pl)\n",
    "sg = sg[:1500]\n",
    "pl = pl[:1500]"
   ]
  },
  {
   "cell_type": "code",
   "execution_count": 34,
   "id": "7bd66846",
   "metadata": {},
   "outputs": [],
   "source": [
    "sg.extend(pl)"
   ]
  },
  {
   "cell_type": "code",
   "execution_count": 35,
   "id": "067d79c5",
   "metadata": {},
   "outputs": [
    {
     "data": {
      "text/plain": [
       "3000"
      ]
     },
     "execution_count": 35,
     "metadata": {},
     "output_type": "execute_result"
    }
   ],
   "source": [
    "len(sg)"
   ]
  },
  {
   "cell_type": "code",
   "execution_count": 36,
   "id": "b28e8a3d",
   "metadata": {},
   "outputs": [],
   "source": [
    "shuffle(sg)"
   ]
  },
  {
   "cell_type": "code",
   "execution_count": 37,
   "id": "d5ac7a01",
   "metadata": {},
   "outputs": [],
   "source": [
    "# сохраним в файл\n",
    "filename_out = '/per_sent/ru_rusenteval_NOUN_Number.txt'\n",
    "with open(filename_out, 'w', encoding='UTF-8') as output:\n",
    "    for line in sg:\n",
    "        output.write(line[0])\n",
    "        output.write('\\n')\n",
    "        label = [label for label in line[1] if label != 'None']\n",
    "        assert len(label) == 1\n",
    "        output.write(label[0])\n",
    "        output.write('\\n')"
   ]
  },
  {
   "cell_type": "code",
   "execution_count": 38,
   "id": "03fb036f",
   "metadata": {},
   "outputs": [
    {
     "name": "stdout",
     "output_type": "stream",
     "text": [
      "1500 1500\n"
     ]
    }
   ],
   "source": [
    "sg_count = 0\n",
    "pl_count = 0\n",
    "for text in sg:\n",
    "    sg_count += text[1].count('Sing')\n",
    "    pl_count += text[1].count('Plur')\n",
    "print(sg_count, pl_count)"
   ]
  },
  {
   "cell_type": "code",
   "execution_count": null,
   "id": "88880691",
   "metadata": {},
   "outputs": [],
   "source": []
  }
 ],
 "metadata": {
  "kernelspec": {
   "display_name": "Python 3 (ipykernel)",
   "language": "python",
   "name": "python3"
  },
  "language_info": {
   "codemirror_mode": {
    "name": "ipython",
    "version": 3
   },
   "file_extension": ".py",
   "mimetype": "text/x-python",
   "name": "python",
   "nbconvert_exporter": "python",
   "pygments_lexer": "ipython3",
   "version": "3.10.13"
  }
 },
 "nbformat": 4,
 "nbformat_minor": 5
}
