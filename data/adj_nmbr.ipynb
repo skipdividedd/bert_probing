{
 "cells": [
  {
   "cell_type": "code",
   "execution_count": 1,
   "id": "71ad8d13",
   "metadata": {},
   "outputs": [],
   "source": [
    "from random import shuffle\n",
    "from tqdm import tqdm\n",
    "import re\n",
    "import os\n",
    "import sys\n",
    "sys.path.append('../rusenteval')"
   ]
  },
  {
   "cell_type": "code",
   "execution_count": 2,
   "id": "45cbde62",
   "metadata": {},
   "outputs": [
    {
     "name": "stderr",
     "output_type": "stream",
     "text": [
      "2023-11-19 01:50:57 INFO: Checking for updates to resources.json in case models have been updated.  Note: this behavior can be turned off with download_method=None or download_method=DownloadMethod.REUSE_RESOURCES\n"
     ]
    },
    {
     "data": {
      "application/vnd.jupyter.widget-view+json": {
       "model_id": "96f7b23a436a45b5907ddca69102e4c7",
       "version_major": 2,
       "version_minor": 0
      },
      "text/plain": [
       "Downloading https://raw.githubusercontent.com/stanfordnlp/stanza-resources/main/resources_1.6.0.json:   0%|   …"
      ]
     },
     "metadata": {},
     "output_type": "display_data"
    },
    {
     "name": "stderr",
     "output_type": "stream",
     "text": [
      "2023-11-19 01:50:58 INFO: Loading these models for language: ru (Russian):\n",
      "================================\n",
      "| Processor | Package          |\n",
      "--------------------------------\n",
      "| tokenize  | syntagrus        |\n",
      "| pos       | syntagrus_charlm |\n",
      "================================\n",
      "\n",
      "2023-11-19 01:50:58 INFO: Using device: cpu\n",
      "2023-11-19 01:50:58 INFO: Loading: tokenize\n",
      "2023-11-19 01:50:58 INFO: Loading: pos\n",
      "2023-11-19 01:50:59 INFO: Done loading processors!\n"
     ]
    }
   ],
   "source": [
    "import stanza\n",
    "ppln = stanza.Pipeline('ru', processors='tokenize,pos')"
   ]
  },
  {
   "cell_type": "code",
   "execution_count": 3,
   "id": "bc162cf2",
   "metadata": {},
   "outputs": [],
   "source": [
    "numbers = []\n",
    "def check_sents(text):\n",
    "        text = re.sub(r'[^\\w\\s]','',text)[:-1]\n",
    "        labels = []\n",
    "        doc = ppln(text)\n",
    "        for i in range(len(doc.sentences[0].words)):\n",
    "            if doc.sentences[0].words[i].upos == 'ADJ':\n",
    "                feats = doc.sentences[0].words[i].feats.split('|')\n",
    "                data_dict = {item.split('=')[0]: item.split('=')[1] for item in feats}\n",
    "                if len(data_dict) > 2:\n",
    "                    if data_dict['Number'] == 'Plur' or data_dict['Number'] == 'Sing':\n",
    "                        labels.append(data_dict['Number'])\n",
    "                        numbers.append(data_dict['Number'])\n",
    "                    else:\n",
    "                        labels.append('None')     \n",
    "                else:\n",
    "                    labels.append('None')  \n",
    "            else:\n",
    "                labels.append('None')\n",
    "        return text, labels   "
   ]
  },
  {
   "cell_type": "code",
   "execution_count": 4,
   "id": "74ca8ba9",
   "metadata": {},
   "outputs": [],
   "source": [
    "with open('../rusenteval/obj_number.txt') as f:\n",
    "    sents = [line.strip('\\n').split('\\t') for line in f]\n",
    "shuffle(sents)\n",
    "sents = [d[2] for d in sents if 4 < len(d[2].split()) <= 20][:40000]"
   ]
  },
  {
   "cell_type": "code",
   "execution_count": 5,
   "id": "c4a61733",
   "metadata": {},
   "outputs": [
    {
     "name": "stderr",
     "output_type": "stream",
     "text": [
      "100%|███████████████████████████████████| 40000/40000 [5:31:30<00:00,  2.01it/s]\n"
     ]
    }
   ],
   "source": [
    "new_sents = []\n",
    "for sent in tqdm(sents):\n",
    "    new_sents.append(check_sents(sent))"
   ]
  },
  {
   "cell_type": "code",
   "execution_count": 6,
   "id": "8f3e9c4d",
   "metadata": {},
   "outputs": [],
   "source": [
    "new_sents = [d for d in new_sents if d is not None]\n",
    "new_sents = [d for d in new_sents if d[1].count('None') != len(d[1]) and len(d[0].split()) == len(d[1])]"
   ]
  },
  {
   "cell_type": "code",
   "execution_count": 7,
   "id": "d282e335",
   "metadata": {},
   "outputs": [],
   "source": [
    "per_token = [d for d in new_sents if d[1].count('None') <= len(d[1]) - 2 and len(d[0].split()) == len(d[1])]"
   ]
  },
  {
   "cell_type": "code",
   "execution_count": 8,
   "id": "296c3320",
   "metadata": {},
   "outputs": [],
   "source": [
    "per_sent = [d for d in new_sents if d[1].count('None') + 1 == len(d[1]) and len(d[0].split()) == len(d[1])]"
   ]
  },
  {
   "cell_type": "code",
   "execution_count": 9,
   "id": "9b5a047c",
   "metadata": {},
   "outputs": [
    {
     "data": {
      "text/plain": [
       "11339"
      ]
     },
     "execution_count": 9,
     "metadata": {},
     "output_type": "execute_result"
    }
   ],
   "source": [
    "len(per_token)"
   ]
  },
  {
   "cell_type": "code",
   "execution_count": 10,
   "id": "3a2b7158",
   "metadata": {},
   "outputs": [
    {
     "data": {
      "text/plain": [
       "14716"
      ]
     },
     "execution_count": 10,
     "metadata": {},
     "output_type": "execute_result"
    }
   ],
   "source": [
    "len(per_sent)"
   ]
  },
  {
   "cell_type": "code",
   "execution_count": 11,
   "id": "ac83f081",
   "metadata": {},
   "outputs": [
    {
     "data": {
      "text/plain": [
       "{'Plur', 'Sing'}"
      ]
     },
     "execution_count": 11,
     "metadata": {},
     "output_type": "execute_result"
    }
   ],
   "source": [
    "set(numbers)"
   ]
  },
  {
   "cell_type": "markdown",
   "id": "bd78d6c5",
   "metadata": {},
   "source": [
    "## per_token"
   ]
  },
  {
   "cell_type": "code",
   "execution_count": 144,
   "id": "aa403969",
   "metadata": {},
   "outputs": [],
   "source": [
    "shuffle(per_token)"
   ]
  },
  {
   "cell_type": "code",
   "execution_count": 145,
   "id": "2a2c322e",
   "metadata": {},
   "outputs": [],
   "source": [
    "sg = []\n",
    "pl = []\n",
    "for text in per_token:\n",
    "    if text[1].count('Sing') > 0:\n",
    "        sg.append(text)\n",
    "    elif text[1].count('Plur') > 0:\n",
    "        pl.append(text)"
   ]
  },
  {
   "cell_type": "code",
   "execution_count": 146,
   "id": "8011a35c",
   "metadata": {},
   "outputs": [],
   "source": [
    "from random import shuffle\n",
    "shuffle(sg)\n",
    "shuffle(pl)\n",
    "sg = sg[:1950]\n",
    "pl = pl[:1050]"
   ]
  },
  {
   "cell_type": "code",
   "execution_count": 147,
   "id": "f45ba750",
   "metadata": {},
   "outputs": [
    {
     "data": {
      "text/plain": [
       "1950"
      ]
     },
     "execution_count": 147,
     "metadata": {},
     "output_type": "execute_result"
    }
   ],
   "source": [
    "len(sg)"
   ]
  },
  {
   "cell_type": "code",
   "execution_count": 148,
   "id": "2b20464d",
   "metadata": {},
   "outputs": [],
   "source": [
    "sg.extend(pl)"
   ]
  },
  {
   "cell_type": "code",
   "execution_count": 149,
   "id": "2d60e708",
   "metadata": {},
   "outputs": [
    {
     "data": {
      "text/plain": [
       "3000"
      ]
     },
     "execution_count": 149,
     "metadata": {},
     "output_type": "execute_result"
    }
   ],
   "source": [
    "len(sg)"
   ]
  },
  {
   "cell_type": "code",
   "execution_count": 150,
   "id": "db843c10",
   "metadata": {},
   "outputs": [],
   "source": [
    "shuffle(sg)"
   ]
  },
  {
   "cell_type": "code",
   "execution_count": 151,
   "id": "0db0629f",
   "metadata": {},
   "outputs": [],
   "source": [
    "filename_out = '/per_token/ru_rusenteval_ADJ_Number.txt'\n",
    "with open(filename_out, 'w', encoding='UTF-8') as output:\n",
    "    for line in sg:\n",
    "        output.write(line[0])\n",
    "        output.write('\\n')\n",
    "        output.write(str(line[1])[1:-1])\n",
    "        output.write('\\n')"
   ]
  },
  {
   "cell_type": "code",
   "execution_count": 152,
   "id": "02fa1d08",
   "metadata": {},
   "outputs": [
    {
     "name": "stdout",
     "output_type": "stream",
     "text": [
      "3746 3745\n"
     ]
    }
   ],
   "source": [
    "sg_count = 0\n",
    "pl_count = 0\n",
    "for text in sg:\n",
    "    sg_count += text[1].count('Sing')\n",
    "    pl_count += text[1].count('Plur')\n",
    "print(sg_count, pl_count)"
   ]
  },
  {
   "cell_type": "markdown",
   "id": "dcfc3b65",
   "metadata": {},
   "source": [
    "## per_sent"
   ]
  },
  {
   "cell_type": "code",
   "execution_count": 20,
   "id": "41dc24cc",
   "metadata": {},
   "outputs": [],
   "source": [
    "sg = []\n",
    "pl = []\n",
    "for text in per_sent:\n",
    "    if text[1].count('Sing') > 0:\n",
    "        sg.append(text)\n",
    "    elif text[1].count('Plur') > 0:\n",
    "        pl.append(text)"
   ]
  },
  {
   "cell_type": "code",
   "execution_count": 21,
   "id": "a5b9d5ef",
   "metadata": {},
   "outputs": [],
   "source": [
    "from random import shuffle\n",
    "shuffle(sg)\n",
    "shuffle(pl)\n",
    "sg = sg[:1500]\n",
    "pl = pl[:1500]"
   ]
  },
  {
   "cell_type": "code",
   "execution_count": 22,
   "id": "3a673c7a",
   "metadata": {},
   "outputs": [
    {
     "data": {
      "text/plain": [
       "1500"
      ]
     },
     "execution_count": 22,
     "metadata": {},
     "output_type": "execute_result"
    }
   ],
   "source": [
    "len(sg)"
   ]
  },
  {
   "cell_type": "code",
   "execution_count": 23,
   "id": "8e3e47e4",
   "metadata": {},
   "outputs": [],
   "source": [
    "sg.extend(pl)"
   ]
  },
  {
   "cell_type": "code",
   "execution_count": 24,
   "id": "2d9aae9b",
   "metadata": {},
   "outputs": [
    {
     "data": {
      "text/plain": [
       "3000"
      ]
     },
     "execution_count": 24,
     "metadata": {},
     "output_type": "execute_result"
    }
   ],
   "source": [
    "len(sg)"
   ]
  },
  {
   "cell_type": "code",
   "execution_count": 30,
   "id": "1b707645",
   "metadata": {},
   "outputs": [],
   "source": [
    "shuffle(sg)"
   ]
  },
  {
   "cell_type": "code",
   "execution_count": 34,
   "id": "68285b46",
   "metadata": {},
   "outputs": [],
   "source": [
    "# сохраним в файл\n",
    "filename_out = '/per_sent/ru_rusenteval_ADJ_Number.txt'\n",
    "with open(filename_out, 'w', encoding='UTF-8') as output:\n",
    "    for line in sg:\n",
    "        output.write(line[0])\n",
    "        output.write('\\n')\n",
    "        label = [label for label in line[1] if label != 'None']\n",
    "        assert len(label) == 1\n",
    "        output.write(label[0])\n",
    "        output.write('\\n')"
   ]
  },
  {
   "cell_type": "code",
   "execution_count": 35,
   "id": "80d97eb9",
   "metadata": {},
   "outputs": [
    {
     "name": "stdout",
     "output_type": "stream",
     "text": [
      "1500 1500\n"
     ]
    }
   ],
   "source": [
    "sg_count = 0\n",
    "pl_count = 0\n",
    "for text in sg:\n",
    "    sg_count += text[1].count('Sing')\n",
    "    pl_count += text[1].count('Plur')\n",
    "print(sg_count, pl_count)"
   ]
  },
  {
   "cell_type": "code",
   "execution_count": null,
   "id": "aed95398",
   "metadata": {},
   "outputs": [],
   "source": []
  }
 ],
 "metadata": {
  "kernelspec": {
   "display_name": "Python 3 (ipykernel)",
   "language": "python",
   "name": "python3"
  },
  "language_info": {
   "codemirror_mode": {
    "name": "ipython",
    "version": 3
   },
   "file_extension": ".py",
   "mimetype": "text/x-python",
   "name": "python",
   "nbconvert_exporter": "python",
   "pygments_lexer": "ipython3",
   "version": "3.10.13"
  }
 },
 "nbformat": 4,
 "nbformat_minor": 5
}
