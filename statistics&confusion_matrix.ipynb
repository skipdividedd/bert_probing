{
 "cells": [
  {
   "cell_type": "markdown",
   "id": "f43dbe36",
   "metadata": {},
   "source": [
    "# Объяснение\n",
    "\n",
    "У нас три вида экспериментов (cls, avg, token)\n",
    "\n",
    "На каждый 3 запуска для каждой модели (seed 100, 200, 300)\n",
    "\n",
    "У каждого экземпляра есть аттрибут 'predicted' на каждую категорию \n",
    "\n",
    "Пример\n",
    "[(0, 'Acc', 'Acc'),\n",
    " (1, 'Ins', 'Ins'),\n",
    " (2, 'Nom', 'Nom'),\n",
    " (3, 'Acc', 'Nom'),\n",
    " (4, 'Gen', 'Gen'),\n",
    " (5, 'Gen', 'Gen'),\n",
    " (6, 'Acc', 'Acc'),\n",
    " (7, 'Ins', 'Ins'),\n",
    " (8, 'Gen', 'Gen'),\n",
    " (9, 'Acc', 'Acc')]\n",
    "\n",
    "- Первое число ничего не значит, просто номер\n",
    "\n",
    "- Второе - предсказали\n",
    "\n",
    "- Третье - True метрика\n",
    "\n",
    "Для cls и усредненного эмбеддинга пробинг по предложению, потокенный отфильтрован так, что там только не None\n",
    "\n",
    "Чтобы понять, к какому предложению относится предсказание для cls и avg, надо прочитать файл с предложениями для категории и обрезать от 2000 примера и дальше. Пример как - ниже.\n",
    "\n",
    "Для потокенного токены отдельно сохранены, но сами токены по nan'ам не отфильтрованы. Пример ниже."
   ]
  },
  {
   "cell_type": "code",
   "execution_count": 112,
   "id": "ff106688-2df0-48df-960b-8a0c93dde329",
   "metadata": {
    "scrolled": true
   },
   "outputs": [],
   "source": [
    "# !pip install plotly statsmodels scikit-learn seaborn"
   ]
  },
  {
   "cell_type": "code",
   "execution_count": 3,
   "id": "628b8d08",
   "metadata": {},
   "outputs": [],
   "source": [
    "import os\n",
    "import pickle\n",
    "import numpy as np\n",
    "import pandas as pd\n",
    "import plotly.express as px\n",
    "import matplotlib.pyplot as plt\n",
    "from collections import Counter\n",
    "import sys\n",
    "package_paths = ['visualisations']\n",
    "for pth in package_paths:\n",
    "    sys.path.append(pth)"
   ]
  },
  {
   "cell_type": "code",
   "execution_count": 4,
   "id": "511e1309",
   "metadata": {},
   "outputs": [],
   "source": [
    "from initialize import Init"
   ]
  },
  {
   "cell_type": "code",
   "execution_count": 5,
   "id": "4593dd1c",
   "metadata": {},
   "outputs": [],
   "source": [
    "from utils import accuracy_lines, large_vi, mine, common_neurons_percentage_multiple, plot_distr, \\\n",
    "                      accuracy_dif, accuracy_dif_control, accuracy_dif2"
   ]
  },
  {
   "cell_type": "code",
   "execution_count": 29,
   "id": "de71d24f-00e8-4440-b245-e90009384638",
   "metadata": {},
   "outputs": [],
   "source": [
    "from statsmodels.stats.contingency_tables import mcnemar "
   ]
  },
  {
   "cell_type": "code",
   "execution_count": 99,
   "id": "d5617e0b-cfb8-47a9-8648-2f933be8a39f",
   "metadata": {},
   "outputs": [],
   "source": [
    "import seaborn as sns"
   ]
  },
  {
   "cell_type": "code",
   "execution_count": null,
   "id": "ec2f4978-8b66-438e-bf13-06abf99a26d6",
   "metadata": {},
   "outputs": [],
   "source": [
    "from sklearn.metrics import confusion_matrix, ConfusionMatrixDisplay"
   ]
  },
  {
   "cell_type": "code",
   "execution_count": 6,
   "id": "36403639",
   "metadata": {},
   "outputs": [],
   "source": [
    "CATS = ['ADJ_Gender', 'ADJ_Number',  'NOUN_Number', 'NOUN_Gender', 'NOUN_Case', 'VERB_Aspect', 'VERB_Tense']"
   ]
  },
  {
   "cell_type": "code",
   "execution_count": 15,
   "id": "0d0b130f",
   "metadata": {},
   "outputs": [],
   "source": [
    "path_1 = 'good_cls100/'\n",
    "good_cls = Init(path_1, 'ru')\n",
    "path_2 = 'good_avg200/'\n",
    "good_avg = Init(path_2, 'ru')\n",
    "path_3 = 'good_token300/'\n",
    "good_token = Init(path_3, 'ru')\n",
    "path_11 = 'broken_cls100/'\n",
    "broken_cls = Init(path_11, 'ru')\n",
    "path_22 = 'broken_avg200/'\n",
    "broken_avg = Init(path_22, 'ru')\n",
    "path_33 = 'broken_token300/'\n",
    "broken_token = Init(path_33, 'ru')"
   ]
  },
  {
   "cell_type": "code",
   "execution_count": 8,
   "id": "39a280f0",
   "metadata": {},
   "outputs": [],
   "source": [
    "data_path = 'data/per_sent/ru_rusenteval_NOUN_Case.txt'"
   ]
  },
  {
   "cell_type": "code",
   "execution_count": 9,
   "id": "e6dff943",
   "metadata": {},
   "outputs": [],
   "source": [
    "with open(data_path, encoding=\"utf-8\") as f:\n",
    "    noun_case = [line.split('\\t') for line in f]"
   ]
  },
  {
   "cell_type": "code",
   "execution_count": 10,
   "id": "47d259aa",
   "metadata": {},
   "outputs": [],
   "source": [
    "import re\n",
    "all_sents = []\n",
    "all_values = []\n",
    "for idx, line in enumerate(noun_case):\n",
    "    if idx % 2 == 0:\n",
    "        line = re.sub('  ', ' ', line[0])\n",
    "        all_sents.append(line)\n",
    "    else:\n",
    "        line = line[0].replace(\"\\'\", \"\").replace(\",\", \"\")\n",
    "        all_values.append(line)\n",
    "\n",
    "sents_test = all_sents[2000:]\n",
    "values_test = all_values[2000:]"
   ]
  },
  {
   "cell_type": "code",
   "execution_count": 11,
   "id": "a591b9d3",
   "metadata": {},
   "outputs": [
    {
     "data": {
      "text/plain": [
       "['Но мы также готовы рассматривать и другие кандидатуры\\n',\n",
       " 'Он должен руководить театром самостоятельно\\n',\n",
       " 'Преступники смогли унести одну из них\\n',\n",
       " 'Кроме того хранить не будут транзитный трафик\\n',\n",
       " 'Имеет два высших военных образования\\n',\n",
       " 'Однако никаких подробностей раскрывать не стали\\n',\n",
       " 'Выставлять дополнительные посты запрещается\\n',\n",
       " 'Владеет английским персидским азербайджанским турецким и русским языками\\n',\n",
       " 'Имеет несколько высших образований\\n',\n",
       " 'И не каждый может выдержать такой экзамен\\n']"
      ]
     },
     "execution_count": 11,
     "metadata": {},
     "output_type": "execute_result"
    }
   ],
   "source": [
    "sents_test[:10]"
   ]
  },
  {
   "cell_type": "code",
   "execution_count": 12,
   "id": "3bbbf163",
   "metadata": {},
   "outputs": [
    {
     "data": {
      "text/plain": [
       "['Acc\\n',\n",
       " 'Ins\\n',\n",
       " 'Nom\\n',\n",
       " 'Nom\\n',\n",
       " 'Gen\\n',\n",
       " 'Gen\\n',\n",
       " 'Acc\\n',\n",
       " 'Ins\\n',\n",
       " 'Gen\\n',\n",
       " 'Acc\\n']"
      ]
     },
     "execution_count": 12,
     "metadata": {},
     "output_type": "execute_result"
    }
   ],
   "source": [
    "values_test[:10]"
   ]
  },
  {
   "cell_type": "code",
   "execution_count": 16,
   "id": "379d44cc",
   "metadata": {},
   "outputs": [
    {
     "data": {
      "text/plain": [
       "[(0, 'Acc', 'Acc'),\n",
       " (1, 'Ins', 'Ins'),\n",
       " (2, 'Nom', 'Nom'),\n",
       " (3, 'Acc', 'Nom'),\n",
       " (4, 'Gen', 'Gen'),\n",
       " (5, 'Gen', 'Gen'),\n",
       " (6, 'Acc', 'Acc'),\n",
       " (7, 'Ins', 'Ins'),\n",
       " (8, 'Gen', 'Gen'),\n",
       " (9, 'Acc', 'Acc')]"
      ]
     },
     "execution_count": 16,
     "metadata": {},
     "output_type": "execute_result"
    }
   ],
   "source": [
    "good_cls.predicted['NOUN_Case'][:10]"
   ]
  },
  {
   "cell_type": "code",
   "execution_count": 17,
   "id": "14150beb-e580-495d-b3e8-2cb3546b8ef7",
   "metadata": {},
   "outputs": [
    {
     "data": {
      "text/plain": [
       "[(0, 'Acc', 'Acc'),\n",
       " (1, 'Ins', 'Ins'),\n",
       " (2, 'Acc', 'Nom'),\n",
       " (3, 'Acc', 'Nom'),\n",
       " (4, 'Gen', 'Gen'),\n",
       " (5, 'Gen', 'Gen'),\n",
       " (6, 'Acc', 'Acc'),\n",
       " (7, 'Ins', 'Ins'),\n",
       " (8, 'Gen', 'Gen'),\n",
       " (9, 'Acc', 'Acc')]"
      ]
     },
     "execution_count": 17,
     "metadata": {},
     "output_type": "execute_result"
    }
   ],
   "source": [
    "broken_cls.predicted['NOUN_Case'][:10]"
   ]
  },
  {
   "cell_type": "code",
   "execution_count": 14,
   "id": "c82f763f",
   "metadata": {},
   "outputs": [
    {
     "data": {
      "text/plain": [
       "[(0, 'Acc', 'Acc'),\n",
       " (1, 'Ins', 'Ins'),\n",
       " (2, 'Acc', 'Nom'),\n",
       " (3, 'Nom', 'Nom'),\n",
       " (4, 'Gen', 'Gen'),\n",
       " (5, 'Gen', 'Gen'),\n",
       " (6, 'Acc', 'Acc'),\n",
       " (7, 'Ins', 'Ins'),\n",
       " (8, 'Gen', 'Gen'),\n",
       " (9, 'Acc', 'Acc')]"
      ]
     },
     "execution_count": 14,
     "metadata": {},
     "output_type": "execute_result"
    }
   ],
   "source": [
    "good_avg.predicted['NOUN_Case'][:10]"
   ]
  },
  {
   "cell_type": "code",
   "execution_count": 36,
   "id": "c6755f2e",
   "metadata": {},
   "outputs": [
    {
     "name": "stdout",
     "output_type": "stream",
     "text": [
      "1000 3493\n"
     ]
    }
   ],
   "source": [
    "print(len(good_avg.predicted['NOUN_Case']), len(good_token.predicted['NOUN_Case']))"
   ]
  },
  {
   "cell_type": "code",
   "execution_count": 14,
   "id": "a02522a8",
   "metadata": {},
   "outputs": [],
   "source": [
    "with open('good_token300/tokens_ru_taiga.pkl', 'rb') as f:\n",
    "    tokens = pickle.load(f)"
   ]
  },
  {
   "cell_type": "code",
   "execution_count": 15,
   "id": "56f0ab2f",
   "metadata": {},
   "outputs": [
    {
     "data": {
      "text/plain": [
       "['Занимается', 'станковой', 'живописью', 'и', 'книжной', 'графикой']"
      ]
     },
     "execution_count": 15,
     "metadata": {},
     "output_type": "execute_result"
    }
   ],
   "source": [
    "tokens['NOUN_Case']['source'][0]"
   ]
  },
  {
   "cell_type": "code",
   "execution_count": 16,
   "id": "828c30ed",
   "metadata": {},
   "outputs": [
    {
     "data": {
      "text/plain": [
       "['None', 'None', 'Ins', 'None', 'None', 'Ins']"
      ]
     },
     "execution_count": 16,
     "metadata": {},
     "output_type": "execute_result"
    }
   ],
   "source": [
    "tokens['NOUN_Case']['target'][0]"
   ]
  },
  {
   "cell_type": "code",
   "execution_count": 17,
   "id": "78b6e722",
   "metadata": {},
   "outputs": [
    {
     "data": {
      "text/plain": [
       "[(0, 'Ins', 'Ins'),\n",
       " (1, 'Ins', 'Ins'),\n",
       " (2, 'Nom', 'Nom'),\n",
       " (3, 'Acc', 'Acc'),\n",
       " (4, 'Nom', 'Nom'),\n",
       " (5, 'Ins', 'Ins'),\n",
       " (6, 'Nom', 'Nom'),\n",
       " (7, 'Ins', 'Ins'),\n",
       " (8, 'Nom', 'Dat'),\n",
       " (9, 'Ins', 'Ins')]"
      ]
     },
     "execution_count": 17,
     "metadata": {},
     "output_type": "execute_result"
    }
   ],
   "source": [
    "good_token.predicted['NOUN_Case'][:10]"
   ]
  },
  {
   "cell_type": "code",
   "execution_count": 18,
   "id": "0ea80f1f",
   "metadata": {},
   "outputs": [
    {
     "data": {
      "text/plain": [
       "[(0, 'Pres', 'Pres'),\n",
       " (1, 'Pres', 'Pres'),\n",
       " (2, 'Pres', 'Pres'),\n",
       " (3, 'Past', 'Past'),\n",
       " (4, 'Pres', 'Pres'),\n",
       " (5, 'Past', 'Past'),\n",
       " (6, 'Pres', 'Pres'),\n",
       " (7, 'Past', 'Past'),\n",
       " (8, 'Pres', 'Pres'),\n",
       " (9, 'Pres', 'Pres')]"
      ]
     },
     "execution_count": 18,
     "metadata": {},
     "output_type": "execute_result"
    }
   ],
   "source": [
    "good_token.predicted['VERB_Tense'][:10]"
   ]
  },
  {
   "cell_type": "code",
   "execution_count": 23,
   "id": "c45df4da",
   "metadata": {},
   "outputs": [
    {
     "data": {
      "text/plain": [
       "486"
      ]
     },
     "execution_count": 23,
     "metadata": {},
     "output_type": "execute_result"
    }
   ],
   "source": [
    "counts = 0\n",
    "for tpl in good_token.predicted['VERB_Tense']:\n",
    "    if tpl[2] == 'Past':\n",
    "        counts+=1\n",
    "counts"
   ]
  },
  {
   "cell_type": "markdown",
   "id": "0442fe46-2a3b-4809-85de-c101d998e192",
   "metadata": {},
   "source": [
    "### McNemar's test for classifier comparisons\n",
    "chi-squared test for paired nominal data with continuity correction"
   ]
  },
  {
   "cell_type": "code",
   "execution_count": 113,
   "id": "b0a2ebd1-f2a4-4cd8-a9d4-c1eb6c7f1738",
   "metadata": {},
   "outputs": [
    {
     "name": "stdout",
     "output_type": "stream",
     "text": [
      "ADJ_Gender\n",
      "[[486, 270], [78, 922]]\n",
      "pvalue      1.3304630664399899e-24\n",
      "statistic   104.83045977011494\n",
      "\n",
      "ADJ_Number\n",
      "[[1221, 359], [132, 1868]]\n",
      "pvalue      1.998357565702463e-24\n",
      "statistic   104.0244399185336\n",
      "\n",
      "NOUN_Number\n",
      "[[2059, 416], [190, 2810]]\n",
      "pvalue      6.245220505986964e-20\n",
      "statistic   83.53960396039604\n",
      "\n",
      "NOUN_Gender\n",
      "[[2741, 517], [258, 3742]]\n",
      "pvalue      1.903214452515575e-20\n",
      "statistic   85.88903225806452\n",
      "\n",
      "NOUN_Case\n",
      "[[3481, 574], [340, 4660]]\n",
      "pvalue      1.2885521108596321e-14\n",
      "statistic   59.39715536105033\n",
      "\n",
      "VERB_Aspect\n",
      "[[4316, 635], [395, 5605]]\n",
      "pvalue      9.551224411287181e-14\n",
      "statistic   55.45728155339806\n",
      "\n",
      "VERB_Tense\n",
      "[[5245, 682], [407, 6593]]\n",
      "pvalue      1.0148897701951853e-16\n",
      "statistic   68.94031221303949\n",
      "\n"
     ]
    }
   ],
   "source": [
    "tt_score = 0\n",
    "tf_score = 0\n",
    "ft_score = 0\n",
    "ff_score = 0\n",
    "for CAT in CATS:\n",
    "    print(CAT)\n",
    "    for i in range(len(good_cls.predicted[CAT])):\n",
    "        if good_cls.predicted[CAT][i][1]==good_cls.predicted[CAT][i][2] and broken_cls.predicted[CAT][i][1]==broken_cls.predicted[CAT][i][2]:\n",
    "            tt_score+=1\n",
    "        if good_cls.predicted[CAT][i][1]==good_cls.predicted[CAT][i][2] and broken_cls.predicted[CAT][i][1]!=broken_cls.predicted[CAT][i][2]:\n",
    "            tf_score+=1\n",
    "        if good_cls.predicted[CAT][i][1]!=good_cls.predicted[CAT][i][2] and broken_cls.predicted[CAT][i][1]==broken_cls.predicted[CAT][i][2]:\n",
    "            ft_score+=1\n",
    "        else:\n",
    "            ff_score+=1\n",
    "    \n",
    "    data = [[tt_score, tf_score], \n",
    "            [ft_score, ff_score]] \n",
    "    print(data)\n",
    "    print(mcnemar(data, exact=False))\n",
    "    print()"
   ]
  },
  {
   "cell_type": "code",
   "execution_count": 36,
   "id": "d8851c8f-a07d-485a-ad88-8e95f76ed983",
   "metadata": {},
   "outputs": [
    {
     "name": "stdout",
     "output_type": "stream",
     "text": [
      "ADJ_Gender\n",
      "[[690, 151], [30, 970]]\n",
      "pvalue      4.682722543272902e-19\n",
      "statistic   79.55801104972376\n",
      "\n",
      "ADJ_Number\n",
      "[[1517, 193], [79, 1921]]\n",
      "pvalue      7.301248537401902e-12\n",
      "statistic   46.94485294117647\n",
      "\n",
      "NOUN_Number\n",
      "[[2413, 225], [103, 2897]]\n",
      "pvalue      2.3714346260326408e-11\n",
      "statistic   44.63719512195122\n",
      "\n",
      "NOUN_Gender\n",
      "[[3148, 326], [139, 3861]]\n",
      "pvalue      6.3789005358471266e-18\n",
      "statistic   74.4\n",
      "\n",
      "NOUN_Case\n",
      "[[3964, 389], [178, 4822]]\n",
      "pvalue      1.1531019092085319e-18\n",
      "statistic   77.77777777777777\n",
      "\n",
      "VERB_Aspect\n",
      "[[4831, 436], [217, 5783]]\n",
      "pvalue      1.4508899687796388e-17\n",
      "statistic   72.77794793261869\n",
      "\n",
      "VERB_Tense\n",
      "[[5790, 451], [229, 6771]]\n",
      "pvalue      2.3515400719840436e-17\n",
      "statistic   71.825\n",
      "\n"
     ]
    }
   ],
   "source": [
    "tt_score = 0\n",
    "tf_score = 0\n",
    "ft_score = 0\n",
    "ff_score = 0\n",
    "for CAT in CATS:\n",
    "    print(CAT)\n",
    "    for i in range(len(good_avg.predicted[CAT])):\n",
    "        if good_avg.predicted[CAT][i][1]==good_avg.predicted[CAT][i][2] and broken_avg.predicted[CAT][i][1]==broken_avg.predicted[CAT][i][2]:\n",
    "            tt_score+=1\n",
    "        if good_avg.predicted[CAT][i][1]==good_avg.predicted[CAT][i][2] and broken_avg.predicted[CAT][i][1]!=broken_avg.predicted[CAT][i][2]:\n",
    "            tf_score+=1\n",
    "        if good_avg.predicted[CAT][i][1]!=good_avg.predicted[CAT][i][2] and broken_avg.predicted[CAT][i][1]==broken_avg.predicted[CAT][i][2]:\n",
    "            ft_score+=1\n",
    "        else:\n",
    "            ff_score+=1\n",
    "    \n",
    "    data = [[tt_score, tf_score], \n",
    "            [ft_score, ff_score]] \n",
    "    print(data)\n",
    "    print(mcnemar(data, exact=False))\n",
    "    print()"
   ]
  },
  {
   "cell_type": "code",
   "execution_count": 37,
   "id": "e523e67b-7dbe-4a85-9c2e-8d367b11ddc6",
   "metadata": {},
   "outputs": [
    {
     "name": "stdout",
     "output_type": "stream",
     "text": [
      "ADJ_Gender\n",
      "[[1930, 277], [71, 2308]]\n",
      "pvalue      4.309489326824862e-28\n",
      "statistic   120.76149425287356\n",
      "\n",
      "ADJ_Number\n",
      "[[4369, 294], [76, 4767]]\n",
      "pvalue      1.6234246969289903e-29\n",
      "statistic   127.26756756756757\n",
      "\n",
      "NOUN_Number\n",
      "[[7419, 335], [121, 7888]]\n",
      "pvalue      1.9681606728281378e-23\n",
      "statistic   99.49342105263158\n",
      "\n",
      "NOUN_Gender\n",
      "[[10512, 709], [299, 11561]]\n",
      "pvalue      5.663061458034515e-38\n",
      "statistic   165.953373015873\n",
      "\n",
      "NOUN_Case\n",
      "[[13788, 784], [353, 15000]]\n",
      "pvalue      3.0271527853223424e-37\n",
      "statistic   162.62093227792437\n",
      "\n",
      "VERB_Aspect\n",
      "[[14759, 793], [366, 15987]]\n",
      "pvalue      6.323648624560397e-36\n",
      "statistic   156.57981018119068\n",
      "\n",
      "VERB_Tense\n",
      "[[15757, 793], [366, 16985]]\n",
      "pvalue      6.323648624560397e-36\n",
      "statistic   156.57981018119068\n",
      "\n"
     ]
    }
   ],
   "source": [
    "tt_score = 0\n",
    "tf_score = 0\n",
    "ft_score = 0\n",
    "ff_score = 0\n",
    "for CAT in CATS:\n",
    "    print(CAT)\n",
    "    for i in range(len(good_token.predicted[CAT])):\n",
    "        if good_token.predicted[CAT][i][1]==good_token.predicted[CAT][i][2] and broken_token.predicted[CAT][i][1]==broken_token.predicted[CAT][i][2]:\n",
    "            tt_score+=1\n",
    "        if good_token.predicted[CAT][i][1]==good_token.predicted[CAT][i][2] and broken_token.predicted[CAT][i][1]!=broken_token.predicted[CAT][i][2]:\n",
    "            tf_score+=1\n",
    "        if good_token.predicted[CAT][i][1]!=good_token.predicted[CAT][i][2] and broken_token.predicted[CAT][i][1]==broken_token.predicted[CAT][i][2]:\n",
    "            ft_score+=1\n",
    "        else:\n",
    "            ff_score+=1\n",
    "    \n",
    "    data = [[tt_score, tf_score], \n",
    "            [ft_score, ff_score]] \n",
    "    print(data)\n",
    "    print(mcnemar(data, exact=False))\n",
    "    print()"
   ]
  },
  {
   "cell_type": "markdown",
   "id": "03fd4e86-ae42-4668-b4bf-22c95f5d1097",
   "metadata": {},
   "source": [
    "### Что с чем путается?"
   ]
  },
  {
   "cell_type": "code",
   "execution_count": 107,
   "id": "715ce267-6290-4175-a2ad-b0d23240996f",
   "metadata": {},
   "outputs": [
    {
     "data": {
      "image/png": "[encoded data removed]",
      "text/plain": [
       "<Figure size 640x480 with 2 Axes>"
      ]
     },
     "metadata": {},
     "output_type": "display_data"
    }
   ],
   "source": [
    "good_token_pred = list(np.array(good_token.predicted['ADJ_Gender'])[:, 1])\n",
    "good_token_real = list(np.array(good_token.predicted['ADJ_Gender'])[:, 2])\n",
    "data = confusion_matrix(good_token_real, good_token_pred, labels=[\"Fem\", \"Masc\", \"Neut\"])\n",
    "hm = sns.heatmap(data=data, yticklabels=[\"Fem\", \"Masc\", \"Neut\"], xticklabels=[\"Fem\", \"Masc\", \"Neut\"], annot=data, fmt=\"d\", cmap=\"Blues\")\n",
    "plt.title('ADJ_Gender good')\n",
    "plt.show() "
   ]
  },
  {
   "cell_type": "code",
   "execution_count": 108,
   "id": "1662e497-20ee-4640-991b-15adf2032139",
   "metadata": {},
   "outputs": [
    {
     "data": {
      "image/png": "[encoded data removed]",
      "text/plain": [
       "<Figure size 640x480 with 2 Axes>"
      ]
     },
     "metadata": {},
     "output_type": "display_data"
    }
   ],
   "source": [
    "broken_token_pred = list(np.array(broken_token.predicted['ADJ_Gender'])[:, 1])\n",
    "broken_token_real = list(np.array(broken_token.predicted['ADJ_Gender'])[:, 2])\n",
    "data = confusion_matrix(broken_token_real, broken_token_pred, labels=[\"Fem\", \"Masc\", \"Neut\"])\n",
    "\n",
    "hm = sns.heatmap(data=data, yticklabels=[\"Fem\", \"Masc\", \"Neut\"], xticklabels=[\"Fem\", \"Masc\", \"Neut\"], annot=data, fmt=\"d\", cmap=\"Blues\")\n",
    "plt.title('ADJ_Gender broken')\n",
    "plt.show() "
   ]
  },
  {
   "cell_type": "code",
   "execution_count": 110,
   "id": "a1feae7e-922a-4f28-8a8f-4cb78adb7c17",
   "metadata": {},
   "outputs": [
    {
     "data": {
      "image/png": "[encoded data removed]",
      "text/plain": [
       "<Figure size 640x480 with 2 Axes>"
      ]
     },
     "metadata": {},
     "output_type": "display_data"
    }
   ],
   "source": [
    "good_token_pred = list(np.array(good_token.predicted['NOUN_Gender'])[:, 1])\n",
    "good_token_real = list(np.array(good_token.predicted['NOUN_Gender'])[:, 2])\n",
    "data = confusion_matrix(good_token_real, good_token_pred, labels=[\"Fem\", \"Masc\", \"Neut\"])\n",
    "hm = sns.heatmap(data=data, yticklabels=[\"Fem\", \"Masc\", \"Neut\"], xticklabels=[\"Fem\", \"Masc\", \"Neut\"], annot=data, fmt=\"d\", cmap=\"Blues\")\n",
    "plt.title('NOUN_Gender good')\n",
    "plt.show() "
   ]
  },
  {
   "cell_type": "code",
   "execution_count": 111,
   "id": "034afb95-552b-4633-b8dc-599c0e7d8663",
   "metadata": {},
   "outputs": [
    {
     "data": {
      "image/png": "[encoded data removed]",
      "text/plain": [
       "<Figure size 640x480 with 2 Axes>"
      ]
     },
     "metadata": {},
     "output_type": "display_data"
    }
   ],
   "source": [
    "broken_token_pred = list(np.array(broken_token.predicted['NOUN_Gender'])[:, 1])\n",
    "broken_token_real = list(np.array(broken_token.predicted['NOUN_Gender'])[:, 2])\n",
    "data = confusion_matrix(broken_token_real, broken_token_pred, labels=[\"Fem\", \"Masc\", \"Neut\"])\n",
    "\n",
    "hm = sns.heatmap(data=data, yticklabels=[\"Fem\", \"Masc\", \"Neut\"], xticklabels=[\"Fem\", \"Masc\", \"Neut\"], annot=data, fmt=\"d\", cmap=\"Blues\")\n",
    "plt.title('NOUN_Gender broken')\n",
    "plt.show() "
   ]
  }
 ],
 "metadata": {
  "kernelspec": {
   "display_name": "Python 3 (ipykernel)",
   "language": "python",
   "name": "python3"
  },
  "language_info": {
   "codemirror_mode": {
    "name": "ipython",
    "version": 3
   },
   "file_extension": ".py",
   "mimetype": "text/x-python",
   "name": "python",
   "nbconvert_exporter": "python",
   "pygments_lexer": "ipython3",
   "version": "3.12.0"
  }
 },
 "nbformat": 4,
 "nbformat_minor": 5
}
